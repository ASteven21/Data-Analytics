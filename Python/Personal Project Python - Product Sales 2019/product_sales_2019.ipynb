{
 "cells": [
  {
   "cell_type": "markdown",
   "id": "1949b5d3",
   "metadata": {},
   "source": [
    "# Product Sales 2019\n",
    "\n",
    "The dataset folder contains 12 files of sales records for each month. <br>\n",
    "Each file consists of 6 columns. Those columns are:\n",
    "1. Order ID: The ID when the order was made\n",
    "2. Product: The name of the product bought\n",
    "3. Quantity Ordered: The number of products ordered\n",
    "4. Price Each: Price of each product\n",
    "5. Order Date: The date the order was made\n",
    "6. Purchase Address: The address of the store where the purchase was made <br>\n",
    "\n",
    "### Questions to answer\n",
    "1. What was the most bought product by month?\n",
    "2. What was the top 5 bought product by year?\n",
    "3. What was the total revenue by month?\n",
    "4. Dive deeper to get whatever interesting insights that you can find"
   ]
  },
  {
   "cell_type": "code",
   "execution_count": 1,
   "id": "3fcb7a86",
   "metadata": {},
   "outputs": [
    {
     "data": {
      "text/html": [
       "<div>\n",
       "<style scoped>\n",
       "    .dataframe tbody tr th:only-of-type {\n",
       "        vertical-align: middle;\n",
       "    }\n",
       "\n",
       "    .dataframe tbody tr th {\n",
       "        vertical-align: top;\n",
       "    }\n",
       "\n",
       "    .dataframe thead th {\n",
       "        text-align: right;\n",
       "    }\n",
       "</style>\n",
       "<table border=\"1\" class=\"dataframe\">\n",
       "  <thead>\n",
       "    <tr style=\"text-align: right;\">\n",
       "      <th></th>\n",
       "      <th>Order ID</th>\n",
       "      <th>Product</th>\n",
       "      <th>Quantity Ordered</th>\n",
       "      <th>Price Each</th>\n",
       "      <th>Order Date</th>\n",
       "      <th>Purchase Address</th>\n",
       "    </tr>\n",
       "  </thead>\n",
       "  <tbody>\n",
       "    <tr>\n",
       "      <th>0</th>\n",
       "      <td>295665</td>\n",
       "      <td>Macbook Pro Laptop</td>\n",
       "      <td>1</td>\n",
       "      <td>1700</td>\n",
       "      <td>12/30/19 00:01</td>\n",
       "      <td>136 Church St, New York City, NY 10001</td>\n",
       "    </tr>\n",
       "    <tr>\n",
       "      <th>1</th>\n",
       "      <td>295666</td>\n",
       "      <td>LG Washing Machine</td>\n",
       "      <td>1</td>\n",
       "      <td>600.0</td>\n",
       "      <td>12/29/19 07:03</td>\n",
       "      <td>562 2nd St, New York City, NY 10001</td>\n",
       "    </tr>\n",
       "    <tr>\n",
       "      <th>2</th>\n",
       "      <td>295667</td>\n",
       "      <td>USB-C Charging Cable</td>\n",
       "      <td>1</td>\n",
       "      <td>11.95</td>\n",
       "      <td>12/12/19 18:21</td>\n",
       "      <td>277 Main St, New York City, NY 10001</td>\n",
       "    </tr>\n",
       "    <tr>\n",
       "      <th>3</th>\n",
       "      <td>295668</td>\n",
       "      <td>27in FHD Monitor</td>\n",
       "      <td>1</td>\n",
       "      <td>149.99</td>\n",
       "      <td>12/22/19 15:13</td>\n",
       "      <td>410 6th St, San Francisco, CA 94016</td>\n",
       "    </tr>\n",
       "    <tr>\n",
       "      <th>4</th>\n",
       "      <td>295669</td>\n",
       "      <td>USB-C Charging Cable</td>\n",
       "      <td>1</td>\n",
       "      <td>11.95</td>\n",
       "      <td>12/18/19 12:38</td>\n",
       "      <td>43 Hill St, Atlanta, GA 30301</td>\n",
       "    </tr>\n",
       "  </tbody>\n",
       "</table>\n",
       "</div>"
      ],
      "text/plain": [
       "  Order ID               Product Quantity Ordered Price Each      Order Date  \\\n",
       "0   295665    Macbook Pro Laptop                1       1700  12/30/19 00:01   \n",
       "1   295666    LG Washing Machine                1      600.0  12/29/19 07:03   \n",
       "2   295667  USB-C Charging Cable                1      11.95  12/12/19 18:21   \n",
       "3   295668      27in FHD Monitor                1     149.99  12/22/19 15:13   \n",
       "4   295669  USB-C Charging Cable                1      11.95  12/18/19 12:38   \n",
       "\n",
       "                         Purchase Address  \n",
       "0  136 Church St, New York City, NY 10001  \n",
       "1     562 2nd St, New York City, NY 10001  \n",
       "2    277 Main St, New York City, NY 10001  \n",
       "3     410 6th St, San Francisco, CA 94016  \n",
       "4           43 Hill St, Atlanta, GA 30301  "
      ]
     },
     "execution_count": 1,
     "metadata": {},
     "output_type": "execute_result"
    }
   ],
   "source": [
    "# import the necessary modules\n",
    "import os\n",
    "import pandas as pd\n",
    "import matplotlib.pyplot as plt\n",
    "import seaborn as sns\n",
    "\n",
    "product_sales = pd.DataFrame()\n",
    "\n",
    "# merging all the files in the dataset folder into one file\n",
    "for file in os.listdir('dataset/'):\n",
    "    if file.endswith('.csv'):\n",
    "        sales = pd.read_csv('dataset/'+file)\n",
    "        product_sales = pd.concat([product_sales, sales])\n",
    "\n",
    "product_sales.head()"
   ]
  },
  {
   "cell_type": "code",
   "execution_count": 2,
   "id": "d9293aed",
   "metadata": {},
   "outputs": [
    {
     "data": {
      "text/plain": [
       "(186850, 6)"
      ]
     },
     "execution_count": 2,
     "metadata": {},
     "output_type": "execute_result"
    }
   ],
   "source": [
    "product_sales.shape"
   ]
  },
  {
   "cell_type": "markdown",
   "id": "f4bba80b",
   "metadata": {},
   "source": [
    "## Cleaning\n",
    "Clean the dataset first before conducting analysis to ensure a more accurate result."
   ]
  },
  {
   "cell_type": "code",
   "execution_count": 3,
   "id": "64bfb007",
   "metadata": {},
   "outputs": [
    {
     "name": "stdout",
     "output_type": "stream",
     "text": [
      "<class 'pandas.core.frame.DataFrame'>\n",
      "Int64Index: 186850 entries, 0 to 13621\n",
      "Data columns (total 6 columns):\n",
      " #   Column            Non-Null Count   Dtype \n",
      "---  ------            --------------   ----- \n",
      " 0   Order ID          186305 non-null  object\n",
      " 1   Product           186305 non-null  object\n",
      " 2   Quantity Ordered  186305 non-null  object\n",
      " 3   Price Each        186305 non-null  object\n",
      " 4   Order Date        186305 non-null  object\n",
      " 5   Purchase Address  186305 non-null  object\n",
      "dtypes: object(6)\n",
      "memory usage: 10.0+ MB\n"
     ]
    }
   ],
   "source": [
    "product_sales.info()"
   ]
  },
  {
   "cell_type": "markdown",
   "id": "1dcf7d56",
   "metadata": {},
   "source": [
    "The original size of the df was (186850, 6) and the count of non-null values was (186305, 6). This means that there are null values in the dataset.\n",
    "\n",
    "## Check and Remove of Null Values"
   ]
  },
  {
   "cell_type": "code",
   "execution_count": 4,
   "id": "879d71d3",
   "metadata": {},
   "outputs": [
    {
     "name": "stdout",
     "output_type": "stream",
     "text": [
      "['295665' '295666' '295667' ... '222907' '222908' '222909']\n",
      "['Macbook Pro Laptop' 'LG Washing Machine' 'USB-C Charging Cable'\n",
      " '27in FHD Monitor' 'AA Batteries (4-pack)' 'Bose SoundSport Headphones'\n",
      " 'AAA Batteries (4-pack)' 'ThinkPad Laptop' 'Lightning Charging Cable'\n",
      " 'Google Phone' 'Wired Headphones' 'Apple Airpods Headphones'\n",
      " 'Vareebadd Phone' 'iPhone' '20in Monitor' '34in Ultrawide Monitor'\n",
      " 'Flatscreen TV' '27in 4K Gaming Monitor' 'Product' nan 'LG Dryer']\n",
      "['1' '2' '4' '3' 'Quantity Ordered' nan '7' '5' '6' '8' '9']\n",
      "['1700' '600.0' '11.95' '149.99' '3.84' '99.99' '2.99' '999.99' '14.95'\n",
      " '600' '11.99' '150' '400' '700' '109.99' '379.99' '300' '389.99'\n",
      " 'Price Each' nan '700.0' '1700.0' '150.0' '300.0' '400.0']\n",
      "['12/30/19 00:01' '12/29/19 07:03' '12/12/19 18:21' ... '06/09/19 22:07'\n",
      " '06/26/19 18:35' '06/25/19 14:33']\n",
      "['136 Church St, New York City, NY 10001'\n",
      " '562 2nd St, New York City, NY 10001'\n",
      " '277 Main St, New York City, NY 10001' ...\n",
      " '590 Wilson St, Los Angeles, CA 90001'\n",
      " '685 Hickory St, New York City, NY 10001'\n",
      " '209 11th St, Atlanta, GA 30301']\n"
     ]
    }
   ],
   "source": [
    "# get a quick gist of the unique values of each column\n",
    "for col in product_sales.columns:\n",
    "    print(product_sales[col].unique())"
   ]
  },
  {
   "cell_type": "markdown",
   "id": "3442a80d",
   "metadata": {},
   "source": [
    "As seen from the results above, the Product column and Quantity Ordered column contains nan values. Furthermore, the Quantity Ordered column also contains rows whose values are 'Quantity Ordered'. I'm going to count the number of rows that contains null values and drop them."
   ]
  },
  {
   "cell_type": "code",
   "execution_count": 5,
   "id": "4777f67e",
   "metadata": {},
   "outputs": [
    {
     "data": {
      "text/plain": [
       "'Order ID: (545, 6)'"
      ]
     },
     "metadata": {},
     "output_type": "display_data"
    },
    {
     "data": {
      "text/plain": [
       "'Product: (545, 6)'"
      ]
     },
     "metadata": {},
     "output_type": "display_data"
    },
    {
     "data": {
      "text/plain": [
       "'Quantity Ordered: (545, 6)'"
      ]
     },
     "metadata": {},
     "output_type": "display_data"
    },
    {
     "data": {
      "text/plain": [
       "'Price Each: (545, 6)'"
      ]
     },
     "metadata": {},
     "output_type": "display_data"
    },
    {
     "data": {
      "text/plain": [
       "'Order Date: (545, 6)'"
      ]
     },
     "metadata": {},
     "output_type": "display_data"
    },
    {
     "data": {
      "text/plain": [
       "'Purchase Address: (545, 6)'"
      ]
     },
     "metadata": {},
     "output_type": "display_data"
    }
   ],
   "source": [
    "df_col = product_sales.columns\n",
    "\n",
    "for col in df_col:\n",
    "    if col in df_col:\n",
    "        display(f'{col}: {product_sales[product_sales[col].isnull()].shape}')"
   ]
  },
  {
   "cell_type": "markdown",
   "id": "a7507953",
   "metadata": {},
   "source": [
    "Now I'm going to filter for the null values to decide what to do with them."
   ]
  },
  {
   "cell_type": "code",
   "execution_count": 6,
   "id": "7a0175c4",
   "metadata": {},
   "outputs": [
    {
     "data": {
      "text/html": [
       "<div>\n",
       "<style scoped>\n",
       "    .dataframe tbody tr th:only-of-type {\n",
       "        vertical-align: middle;\n",
       "    }\n",
       "\n",
       "    .dataframe tbody tr th {\n",
       "        vertical-align: top;\n",
       "    }\n",
       "\n",
       "    .dataframe thead th {\n",
       "        text-align: right;\n",
       "    }\n",
       "</style>\n",
       "<table border=\"1\" class=\"dataframe\">\n",
       "  <thead>\n",
       "    <tr style=\"text-align: right;\">\n",
       "      <th></th>\n",
       "      <th>Order ID</th>\n",
       "      <th>Product</th>\n",
       "      <th>Quantity Ordered</th>\n",
       "      <th>Price Each</th>\n",
       "      <th>Order Date</th>\n",
       "      <th>Purchase Address</th>\n",
       "    </tr>\n",
       "  </thead>\n",
       "  <tbody>\n",
       "    <tr>\n",
       "      <th>264</th>\n",
       "      <td>NaN</td>\n",
       "      <td>NaN</td>\n",
       "      <td>NaN</td>\n",
       "      <td>NaN</td>\n",
       "      <td>NaN</td>\n",
       "      <td>NaN</td>\n",
       "    </tr>\n",
       "    <tr>\n",
       "      <th>648</th>\n",
       "      <td>NaN</td>\n",
       "      <td>NaN</td>\n",
       "      <td>NaN</td>\n",
       "      <td>NaN</td>\n",
       "      <td>NaN</td>\n",
       "      <td>NaN</td>\n",
       "    </tr>\n",
       "    <tr>\n",
       "      <th>680</th>\n",
       "      <td>NaN</td>\n",
       "      <td>NaN</td>\n",
       "      <td>NaN</td>\n",
       "      <td>NaN</td>\n",
       "      <td>NaN</td>\n",
       "      <td>NaN</td>\n",
       "    </tr>\n",
       "    <tr>\n",
       "      <th>1385</th>\n",
       "      <td>NaN</td>\n",
       "      <td>NaN</td>\n",
       "      <td>NaN</td>\n",
       "      <td>NaN</td>\n",
       "      <td>NaN</td>\n",
       "      <td>NaN</td>\n",
       "    </tr>\n",
       "    <tr>\n",
       "      <th>1495</th>\n",
       "      <td>NaN</td>\n",
       "      <td>NaN</td>\n",
       "      <td>NaN</td>\n",
       "      <td>NaN</td>\n",
       "      <td>NaN</td>\n",
       "      <td>NaN</td>\n",
       "    </tr>\n",
       "  </tbody>\n",
       "</table>\n",
       "</div>"
      ],
      "text/plain": [
       "     Order ID Product Quantity Ordered Price Each Order Date Purchase Address\n",
       "264       NaN     NaN              NaN        NaN        NaN              NaN\n",
       "648       NaN     NaN              NaN        NaN        NaN              NaN\n",
       "680       NaN     NaN              NaN        NaN        NaN              NaN\n",
       "1385      NaN     NaN              NaN        NaN        NaN              NaN\n",
       "1495      NaN     NaN              NaN        NaN        NaN              NaN"
      ]
     },
     "execution_count": 6,
     "metadata": {},
     "output_type": "execute_result"
    }
   ],
   "source": [
    "product_sales[product_sales['Order ID'].isnull()].head()"
   ]
  },
  {
   "cell_type": "markdown",
   "id": "fcce5215",
   "metadata": {},
   "source": [
    "Since every single column contains NaN values. I'm going to remove them form the dataset."
   ]
  },
  {
   "cell_type": "code",
   "execution_count": 7,
   "id": "592c552f",
   "metadata": {},
   "outputs": [
    {
     "data": {
      "text/html": [
       "<div>\n",
       "<style scoped>\n",
       "    .dataframe tbody tr th:only-of-type {\n",
       "        vertical-align: middle;\n",
       "    }\n",
       "\n",
       "    .dataframe tbody tr th {\n",
       "        vertical-align: top;\n",
       "    }\n",
       "\n",
       "    .dataframe thead th {\n",
       "        text-align: right;\n",
       "    }\n",
       "</style>\n",
       "<table border=\"1\" class=\"dataframe\">\n",
       "  <thead>\n",
       "    <tr style=\"text-align: right;\">\n",
       "      <th></th>\n",
       "      <th>Order ID</th>\n",
       "      <th>Product</th>\n",
       "      <th>Quantity Ordered</th>\n",
       "      <th>Price Each</th>\n",
       "      <th>Order Date</th>\n",
       "      <th>Purchase Address</th>\n",
       "    </tr>\n",
       "  </thead>\n",
       "  <tbody>\n",
       "  </tbody>\n",
       "</table>\n",
       "</div>"
      ],
      "text/plain": [
       "Empty DataFrame\n",
       "Columns: [Order ID, Product, Quantity Ordered, Price Each, Order Date, Purchase Address]\n",
       "Index: []"
      ]
     },
     "execution_count": 7,
     "metadata": {},
     "output_type": "execute_result"
    }
   ],
   "source": [
    "product_sales = product_sales.dropna(how='all')\n",
    "\n",
    "# check to see if the dropping works\n",
    "product_sales[product_sales['Order ID'].isnull()]"
   ]
  },
  {
   "cell_type": "code",
   "execution_count": 8,
   "id": "fa48c014",
   "metadata": {},
   "outputs": [
    {
     "data": {
      "text/plain": [
       "'Order ID: (0, 6)'"
      ]
     },
     "metadata": {},
     "output_type": "display_data"
    },
    {
     "data": {
      "text/plain": [
       "'Product: (0, 6)'"
      ]
     },
     "metadata": {},
     "output_type": "display_data"
    },
    {
     "data": {
      "text/plain": [
       "'Quantity Ordered: (0, 6)'"
      ]
     },
     "metadata": {},
     "output_type": "display_data"
    },
    {
     "data": {
      "text/plain": [
       "'Price Each: (0, 6)'"
      ]
     },
     "metadata": {},
     "output_type": "display_data"
    },
    {
     "data": {
      "text/plain": [
       "'Order Date: (0, 6)'"
      ]
     },
     "metadata": {},
     "output_type": "display_data"
    },
    {
     "data": {
      "text/plain": [
       "'Purchase Address: (0, 6)'"
      ]
     },
     "metadata": {},
     "output_type": "display_data"
    }
   ],
   "source": [
    "# check to see if the null values were all successfully dropped in all columns\n",
    "for col in df_col:\n",
    "    if col in df_col:\n",
    "        display(f'{col}: {product_sales[product_sales[col].isnull()].shape}')"
   ]
  },
  {
   "cell_type": "markdown",
   "id": "034540ea",
   "metadata": {},
   "source": [
    "The dropping seem to be successful."
   ]
  },
  {
   "cell_type": "code",
   "execution_count": 9,
   "id": "2f4188af",
   "metadata": {},
   "outputs": [
    {
     "name": "stdout",
     "output_type": "stream",
     "text": [
      "No. of rows: 186305\n"
     ]
    }
   ],
   "source": [
    "# check to see how many rows were left after the dropping\n",
    "print(f'No. of rows: {product_sales.shape[0]}')"
   ]
  },
  {
   "cell_type": "markdown",
   "id": "e2b85b04",
   "metadata": {},
   "source": [
    "## Removing \"Quantity Ordered\" Values"
   ]
  },
  {
   "cell_type": "code",
   "execution_count": 10,
   "id": "bbce2e9f",
   "metadata": {},
   "outputs": [
    {
     "name": "stdout",
     "output_type": "stream",
     "text": [
      "['295665' '295666' '295667' ... '222907' '222908' '222909']\n",
      "['Macbook Pro Laptop' 'LG Washing Machine' 'USB-C Charging Cable'\n",
      " '27in FHD Monitor' 'AA Batteries (4-pack)' 'Bose SoundSport Headphones'\n",
      " 'AAA Batteries (4-pack)' 'ThinkPad Laptop' 'Lightning Charging Cable'\n",
      " 'Google Phone' 'Wired Headphones' 'Apple Airpods Headphones'\n",
      " 'Vareebadd Phone' 'iPhone' '20in Monitor' '34in Ultrawide Monitor'\n",
      " 'Flatscreen TV' '27in 4K Gaming Monitor' 'Product' 'LG Dryer']\n",
      "['1' '2' '4' '3' 'Quantity Ordered' '7' '5' '6' '8' '9']\n",
      "['1700' '600.0' '11.95' '149.99' '3.84' '99.99' '2.99' '999.99' '14.95'\n",
      " '600' '11.99' '150' '400' '700' '109.99' '379.99' '300' '389.99'\n",
      " 'Price Each' '700.0' '1700.0' '150.0' '300.0' '400.0']\n",
      "['12/30/19 00:01' '12/29/19 07:03' '12/12/19 18:21' ... '06/09/19 22:07'\n",
      " '06/26/19 18:35' '06/25/19 14:33']\n",
      "['136 Church St, New York City, NY 10001'\n",
      " '562 2nd St, New York City, NY 10001'\n",
      " '277 Main St, New York City, NY 10001' ...\n",
      " '590 Wilson St, Los Angeles, CA 90001'\n",
      " '685 Hickory St, New York City, NY 10001'\n",
      " '209 11th St, Atlanta, GA 30301']\n"
     ]
    }
   ],
   "source": [
    "for col in product_sales.columns:\n",
    "    print(product_sales[col].unique())"
   ]
  },
  {
   "cell_type": "markdown",
   "id": "8d2aee35",
   "metadata": {},
   "source": [
    "Next, I'm going to filter the Quantity Ordered column that has a value of 'Quantity Ordered'"
   ]
  },
  {
   "cell_type": "code",
   "execution_count": 11,
   "id": "df7f439d",
   "metadata": {},
   "outputs": [
    {
     "data": {
      "text/html": [
       "<div>\n",
       "<style scoped>\n",
       "    .dataframe tbody tr th:only-of-type {\n",
       "        vertical-align: middle;\n",
       "    }\n",
       "\n",
       "    .dataframe tbody tr th {\n",
       "        vertical-align: top;\n",
       "    }\n",
       "\n",
       "    .dataframe thead th {\n",
       "        text-align: right;\n",
       "    }\n",
       "</style>\n",
       "<table border=\"1\" class=\"dataframe\">\n",
       "  <thead>\n",
       "    <tr style=\"text-align: right;\">\n",
       "      <th></th>\n",
       "      <th>Order ID</th>\n",
       "      <th>Product</th>\n",
       "      <th>Quantity Ordered</th>\n",
       "      <th>Price Each</th>\n",
       "      <th>Order Date</th>\n",
       "      <th>Purchase Address</th>\n",
       "    </tr>\n",
       "  </thead>\n",
       "  <tbody>\n",
       "    <tr>\n",
       "      <th>254</th>\n",
       "      <td>Order ID</td>\n",
       "      <td>Product</td>\n",
       "      <td>Quantity Ordered</td>\n",
       "      <td>Price Each</td>\n",
       "      <td>Order Date</td>\n",
       "      <td>Purchase Address</td>\n",
       "    </tr>\n",
       "    <tr>\n",
       "      <th>705</th>\n",
       "      <td>Order ID</td>\n",
       "      <td>Product</td>\n",
       "      <td>Quantity Ordered</td>\n",
       "      <td>Price Each</td>\n",
       "      <td>Order Date</td>\n",
       "      <td>Purchase Address</td>\n",
       "    </tr>\n",
       "    <tr>\n",
       "      <th>1101</th>\n",
       "      <td>Order ID</td>\n",
       "      <td>Product</td>\n",
       "      <td>Quantity Ordered</td>\n",
       "      <td>Price Each</td>\n",
       "      <td>Order Date</td>\n",
       "      <td>Purchase Address</td>\n",
       "    </tr>\n",
       "    <tr>\n",
       "      <th>2875</th>\n",
       "      <td>Order ID</td>\n",
       "      <td>Product</td>\n",
       "      <td>Quantity Ordered</td>\n",
       "      <td>Price Each</td>\n",
       "      <td>Order Date</td>\n",
       "      <td>Purchase Address</td>\n",
       "    </tr>\n",
       "    <tr>\n",
       "      <th>3708</th>\n",
       "      <td>Order ID</td>\n",
       "      <td>Product</td>\n",
       "      <td>Quantity Ordered</td>\n",
       "      <td>Price Each</td>\n",
       "      <td>Order Date</td>\n",
       "      <td>Purchase Address</td>\n",
       "    </tr>\n",
       "  </tbody>\n",
       "</table>\n",
       "</div>"
      ],
      "text/plain": [
       "      Order ID  Product  Quantity Ordered  Price Each  Order Date  \\\n",
       "254   Order ID  Product  Quantity Ordered  Price Each  Order Date   \n",
       "705   Order ID  Product  Quantity Ordered  Price Each  Order Date   \n",
       "1101  Order ID  Product  Quantity Ordered  Price Each  Order Date   \n",
       "2875  Order ID  Product  Quantity Ordered  Price Each  Order Date   \n",
       "3708  Order ID  Product  Quantity Ordered  Price Each  Order Date   \n",
       "\n",
       "      Purchase Address  \n",
       "254   Purchase Address  \n",
       "705   Purchase Address  \n",
       "1101  Purchase Address  \n",
       "2875  Purchase Address  \n",
       "3708  Purchase Address  "
      ]
     },
     "metadata": {},
     "output_type": "display_data"
    },
    {
     "data": {
      "text/plain": [
       "'length: 355'"
      ]
     },
     "metadata": {},
     "output_type": "display_data"
    }
   ],
   "source": [
    "product_sales[product_sales['Quantity Ordered'] == 'Quantity Ordered'].head()\n",
    "length = f'length: {len(product_sales[product_sales[\"Quantity Ordered\"] == \"Quantity Ordered\"])}'\n",
    "display(product_sales[product_sales['Quantity Ordered'] == 'Quantity Ordered'].head(),\n",
    "        length)"
   ]
  },
  {
   "cell_type": "markdown",
   "id": "f5b17d75",
   "metadata": {},
   "source": [
    "In order to save space, only 5 rows are displayed. From the result, itt looks like these rows can be dropped as well since each of the columns were filled in with its header name. "
   ]
  },
  {
   "cell_type": "code",
   "execution_count": 12,
   "id": "fdb30918",
   "metadata": {},
   "outputs": [
    {
     "data": {
      "text/html": [
       "<div>\n",
       "<style scoped>\n",
       "    .dataframe tbody tr th:only-of-type {\n",
       "        vertical-align: middle;\n",
       "    }\n",
       "\n",
       "    .dataframe tbody tr th {\n",
       "        vertical-align: top;\n",
       "    }\n",
       "\n",
       "    .dataframe thead th {\n",
       "        text-align: right;\n",
       "    }\n",
       "</style>\n",
       "<table border=\"1\" class=\"dataframe\">\n",
       "  <thead>\n",
       "    <tr style=\"text-align: right;\">\n",
       "      <th></th>\n",
       "      <th>Order ID</th>\n",
       "      <th>Product</th>\n",
       "      <th>Quantity Ordered</th>\n",
       "      <th>Price Each</th>\n",
       "      <th>Order Date</th>\n",
       "      <th>Purchase Address</th>\n",
       "    </tr>\n",
       "  </thead>\n",
       "  <tbody>\n",
       "  </tbody>\n",
       "</table>\n",
       "</div>"
      ],
      "text/plain": [
       "Empty DataFrame\n",
       "Columns: [Order ID, Product, Quantity Ordered, Price Each, Order Date, Purchase Address]\n",
       "Index: []"
      ]
     },
     "execution_count": 12,
     "metadata": {},
     "output_type": "execute_result"
    }
   ],
   "source": [
    "product_sales = product_sales[product_sales['Quantity Ordered'] != 'Quantity Ordered']\n",
    "\n",
    "# check to see if the filtering works\n",
    "product_sales[product_sales['Quantity Ordered'] == 'Quantity Ordered']"
   ]
  },
  {
   "cell_type": "code",
   "execution_count": 13,
   "id": "9c7b18ef",
   "metadata": {},
   "outputs": [
    {
     "name": "stdout",
     "output_type": "stream",
     "text": [
      "No. of rows: 185950\n"
     ]
    }
   ],
   "source": [
    "# check to see how many rows were left after the filter\n",
    "print(f'No. of rows: {product_sales.shape[0]}')"
   ]
  },
  {
   "cell_type": "markdown",
   "id": "3e23c26b",
   "metadata": {},
   "source": [
    "## Set Column Dtype to Its Proper Dtype"
   ]
  },
  {
   "cell_type": "code",
   "execution_count": 14,
   "id": "d67532ba",
   "metadata": {},
   "outputs": [
    {
     "name": "stdout",
     "output_type": "stream",
     "text": [
      "<class 'pandas.core.frame.DataFrame'>\n",
      "Int64Index: 185950 entries, 0 to 13621\n",
      "Data columns (total 6 columns):\n",
      " #   Column            Non-Null Count   Dtype \n",
      "---  ------            --------------   ----- \n",
      " 0   Order ID          185950 non-null  object\n",
      " 1   Product           185950 non-null  object\n",
      " 2   Quantity Ordered  185950 non-null  object\n",
      " 3   Price Each        185950 non-null  object\n",
      " 4   Order Date        185950 non-null  object\n",
      " 5   Purchase Address  185950 non-null  object\n",
      "dtypes: object(6)\n",
      "memory usage: 9.9+ MB\n"
     ]
    }
   ],
   "source": [
    "product_sales.info()"
   ]
  },
  {
   "cell_type": "markdown",
   "id": "a7261e80",
   "metadata": {},
   "source": [
    "After getting rid of the inconsistencies, I'm going to change the dtypes of Quantity Ordered, Price Each and Order date to int, float and date respectively."
   ]
  },
  {
   "cell_type": "code",
   "execution_count": 15,
   "id": "1090218a",
   "metadata": {},
   "outputs": [],
   "source": [
    "product_sales['Quantity Ordered'] = pd.to_numeric(product_sales['Quantity Ordered'], downcast='integer')\n",
    "product_sales['Price Each'] = pd.to_numeric(product_sales['Price Each'], downcast='float')\n",
    "product_sales['Order Date'] = pd.to_datetime(product_sales['Order Date'])"
   ]
  },
  {
   "cell_type": "code",
   "execution_count": 16,
   "id": "67546de9",
   "metadata": {},
   "outputs": [
    {
     "name": "stdout",
     "output_type": "stream",
     "text": [
      "<class 'pandas.core.frame.DataFrame'>\n",
      "Int64Index: 185950 entries, 0 to 13621\n",
      "Data columns (total 6 columns):\n",
      " #   Column            Non-Null Count   Dtype         \n",
      "---  ------            --------------   -----         \n",
      " 0   Order ID          185950 non-null  object        \n",
      " 1   Product           185950 non-null  object        \n",
      " 2   Quantity Ordered  185950 non-null  int8          \n",
      " 3   Price Each        185950 non-null  float32       \n",
      " 4   Order Date        185950 non-null  datetime64[ns]\n",
      " 5   Purchase Address  185950 non-null  object        \n",
      "dtypes: datetime64[ns](1), float32(1), int8(1), object(3)\n",
      "memory usage: 8.0+ MB\n"
     ]
    }
   ],
   "source": [
    "product_sales.info()"
   ]
  },
  {
   "cell_type": "markdown",
   "id": "d45c4def",
   "metadata": {},
   "source": [
    "After getting rid of null values and changing the column dtypes to its proper dtypes, I'm going to check for duplicate values and decide what to do to the after looking at the duplciated rows.\n",
    "\n",
    "## Check and Remove Duplicate Rows"
   ]
  },
  {
   "cell_type": "code",
   "execution_count": 17,
   "id": "30fd8cb3",
   "metadata": {},
   "outputs": [
    {
     "data": {
      "text/html": [
       "<div>\n",
       "<style scoped>\n",
       "    .dataframe tbody tr th:only-of-type {\n",
       "        vertical-align: middle;\n",
       "    }\n",
       "\n",
       "    .dataframe tbody tr th {\n",
       "        vertical-align: top;\n",
       "    }\n",
       "\n",
       "    .dataframe thead th {\n",
       "        text-align: right;\n",
       "    }\n",
       "</style>\n",
       "<table border=\"1\" class=\"dataframe\">\n",
       "  <thead>\n",
       "    <tr style=\"text-align: right;\">\n",
       "      <th></th>\n",
       "      <th>Order ID</th>\n",
       "      <th>Product</th>\n",
       "      <th>Quantity Ordered</th>\n",
       "      <th>Price Each</th>\n",
       "      <th>Order Date</th>\n",
       "      <th>Purchase Address</th>\n",
       "    </tr>\n",
       "  </thead>\n",
       "  <tbody>\n",
       "    <tr>\n",
       "      <th>16</th>\n",
       "      <td>295681</td>\n",
       "      <td>Google Phone</td>\n",
       "      <td>1</td>\n",
       "      <td>600.000000</td>\n",
       "      <td>2019-12-25 12:37:00</td>\n",
       "      <td>79 Elm St, Boston, MA 02215</td>\n",
       "    </tr>\n",
       "    <tr>\n",
       "      <th>17</th>\n",
       "      <td>295681</td>\n",
       "      <td>USB-C Charging Cable</td>\n",
       "      <td>1</td>\n",
       "      <td>11.950000</td>\n",
       "      <td>2019-12-25 12:37:00</td>\n",
       "      <td>79 Elm St, Boston, MA 02215</td>\n",
       "    </tr>\n",
       "    <tr>\n",
       "      <th>18</th>\n",
       "      <td>295681</td>\n",
       "      <td>Bose SoundSport Headphones</td>\n",
       "      <td>1</td>\n",
       "      <td>99.989998</td>\n",
       "      <td>2019-12-25 12:37:00</td>\n",
       "      <td>79 Elm St, Boston, MA 02215</td>\n",
       "    </tr>\n",
       "    <tr>\n",
       "      <th>19</th>\n",
       "      <td>295681</td>\n",
       "      <td>Wired Headphones</td>\n",
       "      <td>1</td>\n",
       "      <td>11.990000</td>\n",
       "      <td>2019-12-25 12:37:00</td>\n",
       "      <td>79 Elm St, Boston, MA 02215</td>\n",
       "    </tr>\n",
       "    <tr>\n",
       "      <th>36</th>\n",
       "      <td>295698</td>\n",
       "      <td>Vareebadd Phone</td>\n",
       "      <td>1</td>\n",
       "      <td>400.000000</td>\n",
       "      <td>2019-12-13 14:32:00</td>\n",
       "      <td>175 1st St, New York City, NY 10001</td>\n",
       "    </tr>\n",
       "    <tr>\n",
       "      <th>37</th>\n",
       "      <td>295698</td>\n",
       "      <td>USB-C Charging Cable</td>\n",
       "      <td>2</td>\n",
       "      <td>11.950000</td>\n",
       "      <td>2019-12-13 14:32:00</td>\n",
       "      <td>175 1st St, New York City, NY 10001</td>\n",
       "    </tr>\n",
       "    <tr>\n",
       "      <th>42</th>\n",
       "      <td>295703</td>\n",
       "      <td>AA Batteries (4-pack)</td>\n",
       "      <td>1</td>\n",
       "      <td>3.840000</td>\n",
       "      <td>2019-12-17 12:27:00</td>\n",
       "      <td>502 Jefferson St, Austin, TX 73301</td>\n",
       "    </tr>\n",
       "    <tr>\n",
       "      <th>43</th>\n",
       "      <td>295703</td>\n",
       "      <td>Bose SoundSport Headphones</td>\n",
       "      <td>1</td>\n",
       "      <td>99.989998</td>\n",
       "      <td>2019-12-17 12:27:00</td>\n",
       "      <td>502 Jefferson St, Austin, TX 73301</td>\n",
       "    </tr>\n",
       "    <tr>\n",
       "      <th>66</th>\n",
       "      <td>295726</td>\n",
       "      <td>iPhone</td>\n",
       "      <td>1</td>\n",
       "      <td>700.000000</td>\n",
       "      <td>2019-12-25 14:49:00</td>\n",
       "      <td>203 Lakeview St, Boston, MA 02215</td>\n",
       "    </tr>\n",
       "    <tr>\n",
       "      <th>67</th>\n",
       "      <td>295726</td>\n",
       "      <td>Lightning Charging Cable</td>\n",
       "      <td>1</td>\n",
       "      <td>14.950000</td>\n",
       "      <td>2019-12-25 14:49:00</td>\n",
       "      <td>203 Lakeview St, Boston, MA 02215</td>\n",
       "    </tr>\n",
       "  </tbody>\n",
       "</table>\n",
       "</div>"
      ],
      "text/plain": [
       "   Order ID                     Product  Quantity Ordered  Price Each  \\\n",
       "16   295681                Google Phone                 1  600.000000   \n",
       "17   295681        USB-C Charging Cable                 1   11.950000   \n",
       "18   295681  Bose SoundSport Headphones                 1   99.989998   \n",
       "19   295681            Wired Headphones                 1   11.990000   \n",
       "36   295698             Vareebadd Phone                 1  400.000000   \n",
       "37   295698        USB-C Charging Cable                 2   11.950000   \n",
       "42   295703       AA Batteries (4-pack)                 1    3.840000   \n",
       "43   295703  Bose SoundSport Headphones                 1   99.989998   \n",
       "66   295726                      iPhone                 1  700.000000   \n",
       "67   295726    Lightning Charging Cable                 1   14.950000   \n",
       "\n",
       "            Order Date                     Purchase Address  \n",
       "16 2019-12-25 12:37:00          79 Elm St, Boston, MA 02215  \n",
       "17 2019-12-25 12:37:00          79 Elm St, Boston, MA 02215  \n",
       "18 2019-12-25 12:37:00          79 Elm St, Boston, MA 02215  \n",
       "19 2019-12-25 12:37:00          79 Elm St, Boston, MA 02215  \n",
       "36 2019-12-13 14:32:00  175 1st St, New York City, NY 10001  \n",
       "37 2019-12-13 14:32:00  175 1st St, New York City, NY 10001  \n",
       "42 2019-12-17 12:27:00   502 Jefferson St, Austin, TX 73301  \n",
       "43 2019-12-17 12:27:00   502 Jefferson St, Austin, TX 73301  \n",
       "66 2019-12-25 14:49:00    203 Lakeview St, Boston, MA 02215  \n",
       "67 2019-12-25 14:49:00    203 Lakeview St, Boston, MA 02215  "
      ]
     },
     "execution_count": 17,
     "metadata": {},
     "output_type": "execute_result"
    }
   ],
   "source": [
    "# check for duplicates\n",
    "product_sales[product_sales['Order ID'].duplicated(keep=False)].head(10)"
   ]
  },
  {
   "cell_type": "markdown",
   "id": "3bfa82f3",
   "metadata": {},
   "source": [
    "From the results, it looks like there are plenty of duplicated values. However, after looking at the first 2 rows, it can be concluded that it's fine to have duplicated Order ID values since the product that was bought were not the same. In fact, this implies that this particular customer bought 2 products at once. <br><br>\n",
    "Furthermore, it's fine to have duplicated values for each column alone. The one thing that cannot be allowed is that if there are duplicate rows, not duplicate values."
   ]
  },
  {
   "cell_type": "code",
   "execution_count": 18,
   "id": "3b6c1cf4",
   "metadata": {},
   "outputs": [
    {
     "data": {
      "text/html": [
       "<div>\n",
       "<style scoped>\n",
       "    .dataframe tbody tr th:only-of-type {\n",
       "        vertical-align: middle;\n",
       "    }\n",
       "\n",
       "    .dataframe tbody tr th {\n",
       "        vertical-align: top;\n",
       "    }\n",
       "\n",
       "    .dataframe thead th {\n",
       "        text-align: right;\n",
       "    }\n",
       "</style>\n",
       "<table border=\"1\" class=\"dataframe\">\n",
       "  <thead>\n",
       "    <tr style=\"text-align: right;\">\n",
       "      <th></th>\n",
       "      <th>Order ID</th>\n",
       "      <th>Product</th>\n",
       "      <th>Quantity Ordered</th>\n",
       "      <th>Price Each</th>\n",
       "      <th>Order Date</th>\n",
       "      <th>Purchase Address</th>\n",
       "      <th>Count</th>\n",
       "    </tr>\n",
       "  </thead>\n",
       "  <tbody>\n",
       "    <tr>\n",
       "      <th>871</th>\n",
       "      <td>142071</td>\n",
       "      <td>AA Batteries (4-pack)</td>\n",
       "      <td>1</td>\n",
       "      <td>3.84</td>\n",
       "      <td>2019-01-17 23:02:00</td>\n",
       "      <td>131 2nd St, Boston, MA 02215</td>\n",
       "      <td>2</td>\n",
       "    </tr>\n",
       "    <tr>\n",
       "      <th>4104</th>\n",
       "      <td>145143</td>\n",
       "      <td>Lightning Charging Cable</td>\n",
       "      <td>1</td>\n",
       "      <td>14.95</td>\n",
       "      <td>2019-01-06 03:01:00</td>\n",
       "      <td>182 Jefferson St, San Francisco, CA 94016</td>\n",
       "      <td>2</td>\n",
       "    </tr>\n",
       "    <tr>\n",
       "      <th>5782</th>\n",
       "      <td>146765</td>\n",
       "      <td>Google Phone</td>\n",
       "      <td>1</td>\n",
       "      <td>600.00</td>\n",
       "      <td>2019-01-21 11:23:00</td>\n",
       "      <td>918 Highland St, New York City, NY 10001</td>\n",
       "      <td>2</td>\n",
       "    </tr>\n",
       "    <tr>\n",
       "      <th>6773</th>\n",
       "      <td>147707</td>\n",
       "      <td>Wired Headphones</td>\n",
       "      <td>1</td>\n",
       "      <td>11.99</td>\n",
       "      <td>2019-01-04 16:50:00</td>\n",
       "      <td>883 4th St, Dallas, TX 75001</td>\n",
       "      <td>2</td>\n",
       "    </tr>\n",
       "    <tr>\n",
       "      <th>8096</th>\n",
       "      <td>148984</td>\n",
       "      <td>USB-C Charging Cable</td>\n",
       "      <td>1</td>\n",
       "      <td>11.95</td>\n",
       "      <td>2019-01-08 17:36:00</td>\n",
       "      <td>562 14th St, Boston, MA 02215</td>\n",
       "      <td>2</td>\n",
       "    </tr>\n",
       "  </tbody>\n",
       "</table>\n",
       "</div>"
      ],
      "text/plain": [
       "     Order ID                   Product  Quantity Ordered  Price Each  \\\n",
       "871    142071     AA Batteries (4-pack)                 1        3.84   \n",
       "4104   145143  Lightning Charging Cable                 1       14.95   \n",
       "5782   146765              Google Phone                 1      600.00   \n",
       "6773   147707          Wired Headphones                 1       11.99   \n",
       "8096   148984      USB-C Charging Cable                 1       11.95   \n",
       "\n",
       "              Order Date                           Purchase Address  Count  \n",
       "871  2019-01-17 23:02:00               131 2nd St, Boston, MA 02215      2  \n",
       "4104 2019-01-06 03:01:00  182 Jefferson St, San Francisco, CA 94016      2  \n",
       "5782 2019-01-21 11:23:00   918 Highland St, New York City, NY 10001      2  \n",
       "6773 2019-01-04 16:50:00               883 4th St, Dallas, TX 75001      2  \n",
       "8096 2019-01-08 17:36:00              562 14th St, Boston, MA 02215      2  "
      ]
     },
     "metadata": {},
     "output_type": "display_data"
    },
    {
     "data": {
      "text/plain": [
       "'No. of rows: 264'"
      ]
     },
     "metadata": {},
     "output_type": "display_data"
    }
   ],
   "source": [
    "# count the number of duplicated rows\n",
    "duplicates = product_sales.pivot_table(columns=product_sales.columns.tolist(), aggfunc='size')\n",
    "duplicates = duplicates.reset_index().rename(columns={0:'Count'})\n",
    "duplicate_rows = duplicates[duplicates['Count'] > 1]\n",
    "display(duplicate_rows.head(),\n",
    "        f'No. of rows: {duplicate_rows.shape[0]}')"
   ]
  },
  {
   "cell_type": "markdown",
   "id": "cce3d9eb",
   "metadata": {},
   "source": [
    "It looks like there are 264 pairs of duplicated rows in the dataframe. I'm going to double check if this is true, after figuring out if it's true or not, I'm going to keep the first occurrence of each duplciated rows."
   ]
  },
  {
   "cell_type": "code",
   "execution_count": 19,
   "id": "81aa6ba3",
   "metadata": {
    "scrolled": false
   },
   "outputs": [
    {
     "data": {
      "text/html": [
       "<div>\n",
       "<style scoped>\n",
       "    .dataframe tbody tr th:only-of-type {\n",
       "        vertical-align: middle;\n",
       "    }\n",
       "\n",
       "    .dataframe tbody tr th {\n",
       "        vertical-align: top;\n",
       "    }\n",
       "\n",
       "    .dataframe thead th {\n",
       "        text-align: right;\n",
       "    }\n",
       "</style>\n",
       "<table border=\"1\" class=\"dataframe\">\n",
       "  <thead>\n",
       "    <tr style=\"text-align: right;\">\n",
       "      <th></th>\n",
       "      <th>Order ID</th>\n",
       "      <th>Product</th>\n",
       "      <th>Quantity Ordered</th>\n",
       "      <th>Price Each</th>\n",
       "      <th>Order Date</th>\n",
       "      <th>Purchase Address</th>\n",
       "    </tr>\n",
       "  </thead>\n",
       "  <tbody>\n",
       "    <tr>\n",
       "      <th>439</th>\n",
       "      <td>296081</td>\n",
       "      <td>Flatscreen TV</td>\n",
       "      <td>1</td>\n",
       "      <td>300.000000</td>\n",
       "      <td>2019-12-30 16:52:00</td>\n",
       "      <td>970 Sunset St, Austin, TX 73301</td>\n",
       "    </tr>\n",
       "    <tr>\n",
       "      <th>440</th>\n",
       "      <td>296081</td>\n",
       "      <td>Flatscreen TV</td>\n",
       "      <td>1</td>\n",
       "      <td>300.000000</td>\n",
       "      <td>2019-12-30 16:52:00</td>\n",
       "      <td>970 Sunset St, Austin, TX 73301</td>\n",
       "    </tr>\n",
       "    <tr>\n",
       "      <th>1734</th>\n",
       "      <td>297311</td>\n",
       "      <td>Bose SoundSport Headphones</td>\n",
       "      <td>1</td>\n",
       "      <td>99.989998</td>\n",
       "      <td>2019-12-07 07:30:00</td>\n",
       "      <td>858 Willow St, Los Angeles, CA 90001</td>\n",
       "    </tr>\n",
       "    <tr>\n",
       "      <th>1735</th>\n",
       "      <td>297311</td>\n",
       "      <td>Bose SoundSport Headphones</td>\n",
       "      <td>1</td>\n",
       "      <td>99.989998</td>\n",
       "      <td>2019-12-07 07:30:00</td>\n",
       "      <td>858 Willow St, Los Angeles, CA 90001</td>\n",
       "    </tr>\n",
       "    <tr>\n",
       "      <th>2821</th>\n",
       "      <td>298358</td>\n",
       "      <td>Apple Airpods Headphones</td>\n",
       "      <td>1</td>\n",
       "      <td>150.000000</td>\n",
       "      <td>2019-12-04 15:57:00</td>\n",
       "      <td>482 8th St, San Francisco, CA 94016</td>\n",
       "    </tr>\n",
       "    <tr>\n",
       "      <th>2822</th>\n",
       "      <td>298358</td>\n",
       "      <td>Apple Airpods Headphones</td>\n",
       "      <td>1</td>\n",
       "      <td>150.000000</td>\n",
       "      <td>2019-12-04 15:57:00</td>\n",
       "      <td>482 8th St, San Francisco, CA 94016</td>\n",
       "    </tr>\n",
       "    <tr>\n",
       "      <th>3130</th>\n",
       "      <td>298657</td>\n",
       "      <td>Lightning Charging Cable</td>\n",
       "      <td>1</td>\n",
       "      <td>14.950000</td>\n",
       "      <td>2019-12-01 18:22:00</td>\n",
       "      <td>428 12th St, Atlanta, GA 30301</td>\n",
       "    </tr>\n",
       "    <tr>\n",
       "      <th>3131</th>\n",
       "      <td>298657</td>\n",
       "      <td>Lightning Charging Cable</td>\n",
       "      <td>1</td>\n",
       "      <td>14.950000</td>\n",
       "      <td>2019-12-01 18:22:00</td>\n",
       "      <td>428 12th St, Atlanta, GA 30301</td>\n",
       "    </tr>\n",
       "    <tr>\n",
       "      <th>3376</th>\n",
       "      <td>298883</td>\n",
       "      <td>Wired Headphones</td>\n",
       "      <td>1</td>\n",
       "      <td>11.990000</td>\n",
       "      <td>2019-12-28 18:07:00</td>\n",
       "      <td>516 Willow St, Los Angeles, CA 90001</td>\n",
       "    </tr>\n",
       "    <tr>\n",
       "      <th>3377</th>\n",
       "      <td>298883</td>\n",
       "      <td>Wired Headphones</td>\n",
       "      <td>1</td>\n",
       "      <td>11.990000</td>\n",
       "      <td>2019-12-28 18:07:00</td>\n",
       "      <td>516 Willow St, Los Angeles, CA 90001</td>\n",
       "    </tr>\n",
       "  </tbody>\n",
       "</table>\n",
       "</div>"
      ],
      "text/plain": [
       "     Order ID                     Product  Quantity Ordered  Price Each  \\\n",
       "439    296081               Flatscreen TV                 1  300.000000   \n",
       "440    296081               Flatscreen TV                 1  300.000000   \n",
       "1734   297311  Bose SoundSport Headphones                 1   99.989998   \n",
       "1735   297311  Bose SoundSport Headphones                 1   99.989998   \n",
       "2821   298358    Apple Airpods Headphones                 1  150.000000   \n",
       "2822   298358    Apple Airpods Headphones                 1  150.000000   \n",
       "3130   298657    Lightning Charging Cable                 1   14.950000   \n",
       "3131   298657    Lightning Charging Cable                 1   14.950000   \n",
       "3376   298883            Wired Headphones                 1   11.990000   \n",
       "3377   298883            Wired Headphones                 1   11.990000   \n",
       "\n",
       "              Order Date                      Purchase Address  \n",
       "439  2019-12-30 16:52:00       970 Sunset St, Austin, TX 73301  \n",
       "440  2019-12-30 16:52:00       970 Sunset St, Austin, TX 73301  \n",
       "1734 2019-12-07 07:30:00  858 Willow St, Los Angeles, CA 90001  \n",
       "1735 2019-12-07 07:30:00  858 Willow St, Los Angeles, CA 90001  \n",
       "2821 2019-12-04 15:57:00   482 8th St, San Francisco, CA 94016  \n",
       "2822 2019-12-04 15:57:00   482 8th St, San Francisco, CA 94016  \n",
       "3130 2019-12-01 18:22:00        428 12th St, Atlanta, GA 30301  \n",
       "3131 2019-12-01 18:22:00        428 12th St, Atlanta, GA 30301  \n",
       "3376 2019-12-28 18:07:00  516 Willow St, Los Angeles, CA 90001  \n",
       "3377 2019-12-28 18:07:00  516 Willow St, Los Angeles, CA 90001  "
      ]
     },
     "metadata": {},
     "output_type": "display_data"
    },
    {
     "data": {
      "text/plain": [
       "'No. of rows: 528'"
      ]
     },
     "metadata": {},
     "output_type": "display_data"
    }
   ],
   "source": [
    "duplicate = product_sales[product_sales.duplicated(keep=False)]\n",
    "display(duplicate.head(10),\n",
    "        f'No. of rows: {duplicate.shape[0]}')"
   ]
  },
  {
   "cell_type": "markdown",
   "id": "5c12c9a4",
   "metadata": {},
   "source": [
    "To conserve space, I only filtered for the first 10 rows and displayed the total number of rows at the bottom of the results. The previous result shows 19 pairs of duplicate values while the result above show a total row number of 38. The results are accurate since `264 * 2 = 528`. Furthermore, as the values for each duplicate pairs are exactly the same, I'm going to keep the first occurrence only. <br><br>\n",
    "When removing the duplicates, it means that 19 rows will be removed. to check this, since the original row number of the df is 13556, the new df without duplicates should be 13537 since `185950 - 264 = 185686`."
   ]
  },
  {
   "cell_type": "code",
   "execution_count": 20,
   "id": "b7e2f021",
   "metadata": {},
   "outputs": [
    {
     "name": "stdout",
     "output_type": "stream",
     "text": [
      "original df row num: 185950 \n",
      "df without duplicates: 185686\n",
      "difference: 264\n"
     ]
    }
   ],
   "source": [
    "# check if the duplicate removal process is correct\n",
    "x = len(product_sales)\n",
    "y = len(product_sales[~product_sales.duplicated(keep='last')])\n",
    "print(f'original df row num: {x} \\ndf without duplicates: {y}\\ndifference: {x-y}')"
   ]
  },
  {
   "cell_type": "markdown",
   "id": "90804870",
   "metadata": {},
   "source": [
    "Seems like the removal of the duplicates was done properly. Next I'm going to reassign product_sales to the new duplicated free df."
   ]
  },
  {
   "cell_type": "code",
   "execution_count": 21,
   "id": "0cc86981",
   "metadata": {},
   "outputs": [
    {
     "data": {
      "text/html": [
       "<div>\n",
       "<style scoped>\n",
       "    .dataframe tbody tr th:only-of-type {\n",
       "        vertical-align: middle;\n",
       "    }\n",
       "\n",
       "    .dataframe tbody tr th {\n",
       "        vertical-align: top;\n",
       "    }\n",
       "\n",
       "    .dataframe thead th {\n",
       "        text-align: right;\n",
       "    }\n",
       "</style>\n",
       "<table border=\"1\" class=\"dataframe\">\n",
       "  <thead>\n",
       "    <tr style=\"text-align: right;\">\n",
       "      <th></th>\n",
       "      <th>Order ID</th>\n",
       "      <th>Product</th>\n",
       "      <th>Quantity Ordered</th>\n",
       "      <th>Price Each</th>\n",
       "      <th>Order Date</th>\n",
       "      <th>Purchase Address</th>\n",
       "    </tr>\n",
       "  </thead>\n",
       "  <tbody>\n",
       "    <tr>\n",
       "      <th>0</th>\n",
       "      <td>295665</td>\n",
       "      <td>Macbook Pro Laptop</td>\n",
       "      <td>1</td>\n",
       "      <td>1700.000000</td>\n",
       "      <td>2019-12-30 00:01:00</td>\n",
       "      <td>136 Church St, New York City, NY 10001</td>\n",
       "    </tr>\n",
       "    <tr>\n",
       "      <th>1</th>\n",
       "      <td>295666</td>\n",
       "      <td>LG Washing Machine</td>\n",
       "      <td>1</td>\n",
       "      <td>600.000000</td>\n",
       "      <td>2019-12-29 07:03:00</td>\n",
       "      <td>562 2nd St, New York City, NY 10001</td>\n",
       "    </tr>\n",
       "    <tr>\n",
       "      <th>2</th>\n",
       "      <td>295667</td>\n",
       "      <td>USB-C Charging Cable</td>\n",
       "      <td>1</td>\n",
       "      <td>11.950000</td>\n",
       "      <td>2019-12-12 18:21:00</td>\n",
       "      <td>277 Main St, New York City, NY 10001</td>\n",
       "    </tr>\n",
       "    <tr>\n",
       "      <th>3</th>\n",
       "      <td>295668</td>\n",
       "      <td>27in FHD Monitor</td>\n",
       "      <td>1</td>\n",
       "      <td>149.990005</td>\n",
       "      <td>2019-12-22 15:13:00</td>\n",
       "      <td>410 6th St, San Francisco, CA 94016</td>\n",
       "    </tr>\n",
       "    <tr>\n",
       "      <th>4</th>\n",
       "      <td>295669</td>\n",
       "      <td>USB-C Charging Cable</td>\n",
       "      <td>1</td>\n",
       "      <td>11.950000</td>\n",
       "      <td>2019-12-18 12:38:00</td>\n",
       "      <td>43 Hill St, Atlanta, GA 30301</td>\n",
       "    </tr>\n",
       "  </tbody>\n",
       "</table>\n",
       "</div>"
      ],
      "text/plain": [
       "  Order ID               Product  Quantity Ordered   Price Each  \\\n",
       "0   295665    Macbook Pro Laptop                 1  1700.000000   \n",
       "1   295666    LG Washing Machine                 1   600.000000   \n",
       "2   295667  USB-C Charging Cable                 1    11.950000   \n",
       "3   295668      27in FHD Monitor                 1   149.990005   \n",
       "4   295669  USB-C Charging Cable                 1    11.950000   \n",
       "\n",
       "           Order Date                        Purchase Address  \n",
       "0 2019-12-30 00:01:00  136 Church St, New York City, NY 10001  \n",
       "1 2019-12-29 07:03:00     562 2nd St, New York City, NY 10001  \n",
       "2 2019-12-12 18:21:00    277 Main St, New York City, NY 10001  \n",
       "3 2019-12-22 15:13:00     410 6th St, San Francisco, CA 94016  \n",
       "4 2019-12-18 12:38:00           43 Hill St, Atlanta, GA 30301  "
      ]
     },
     "execution_count": 21,
     "metadata": {},
     "output_type": "execute_result"
    }
   ],
   "source": [
    "product_sales_clean = product_sales[~product_sales.duplicated(keep='last')]\n",
    "product_sales_clean.head()"
   ]
  },
  {
   "cell_type": "markdown",
   "id": "f1fafe91",
   "metadata": {},
   "source": [
    "Now that the dataset is already clean, I can begin my EDA.\n",
    "\n",
    "## Analysis\n",
    "\n",
    "Before answering the questions given at the beginning of this notebook, I'm going to manipulate and add some columns to the df in order to make it easier for the analysis."
   ]
  },
  {
   "cell_type": "code",
   "execution_count": 22,
   "id": "eaa21dcf",
   "metadata": {},
   "outputs": [
    {
     "data": {
      "text/html": [
       "<div>\n",
       "<style scoped>\n",
       "    .dataframe tbody tr th:only-of-type {\n",
       "        vertical-align: middle;\n",
       "    }\n",
       "\n",
       "    .dataframe tbody tr th {\n",
       "        vertical-align: top;\n",
       "    }\n",
       "\n",
       "    .dataframe thead th {\n",
       "        text-align: right;\n",
       "    }\n",
       "</style>\n",
       "<table border=\"1\" class=\"dataframe\">\n",
       "  <thead>\n",
       "    <tr style=\"text-align: right;\">\n",
       "      <th></th>\n",
       "      <th>Order ID</th>\n",
       "      <th>Product</th>\n",
       "      <th>Quantity Ordered</th>\n",
       "      <th>Price Each</th>\n",
       "      <th>Order Date</th>\n",
       "      <th>Purchase Address</th>\n",
       "    </tr>\n",
       "  </thead>\n",
       "  <tbody>\n",
       "    <tr>\n",
       "      <th>0</th>\n",
       "      <td>295665</td>\n",
       "      <td>Macbook Pro Laptop</td>\n",
       "      <td>1</td>\n",
       "      <td>1700.000000</td>\n",
       "      <td>2019-12-30 00:01:00</td>\n",
       "      <td>136 Church St, New York City, NY 10001</td>\n",
       "    </tr>\n",
       "    <tr>\n",
       "      <th>1</th>\n",
       "      <td>295666</td>\n",
       "      <td>LG Washing Machine</td>\n",
       "      <td>1</td>\n",
       "      <td>600.000000</td>\n",
       "      <td>2019-12-29 07:03:00</td>\n",
       "      <td>562 2nd St, New York City, NY 10001</td>\n",
       "    </tr>\n",
       "    <tr>\n",
       "      <th>2</th>\n",
       "      <td>295667</td>\n",
       "      <td>USB-C Charging Cable</td>\n",
       "      <td>1</td>\n",
       "      <td>11.950000</td>\n",
       "      <td>2019-12-12 18:21:00</td>\n",
       "      <td>277 Main St, New York City, NY 10001</td>\n",
       "    </tr>\n",
       "    <tr>\n",
       "      <th>3</th>\n",
       "      <td>295668</td>\n",
       "      <td>27in FHD Monitor</td>\n",
       "      <td>1</td>\n",
       "      <td>149.990005</td>\n",
       "      <td>2019-12-22 15:13:00</td>\n",
       "      <td>410 6th St, San Francisco, CA 94016</td>\n",
       "    </tr>\n",
       "    <tr>\n",
       "      <th>4</th>\n",
       "      <td>295669</td>\n",
       "      <td>USB-C Charging Cable</td>\n",
       "      <td>1</td>\n",
       "      <td>11.950000</td>\n",
       "      <td>2019-12-18 12:38:00</td>\n",
       "      <td>43 Hill St, Atlanta, GA 30301</td>\n",
       "    </tr>\n",
       "  </tbody>\n",
       "</table>\n",
       "</div>"
      ],
      "text/plain": [
       "  Order ID               Product  Quantity Ordered   Price Each  \\\n",
       "0   295665    Macbook Pro Laptop                 1  1700.000000   \n",
       "1   295666    LG Washing Machine                 1   600.000000   \n",
       "2   295667  USB-C Charging Cable                 1    11.950000   \n",
       "3   295668      27in FHD Monitor                 1   149.990005   \n",
       "4   295669  USB-C Charging Cable                 1    11.950000   \n",
       "\n",
       "           Order Date                        Purchase Address  \n",
       "0 2019-12-30 00:01:00  136 Church St, New York City, NY 10001  \n",
       "1 2019-12-29 07:03:00     562 2nd St, New York City, NY 10001  \n",
       "2 2019-12-12 18:21:00    277 Main St, New York City, NY 10001  \n",
       "3 2019-12-22 15:13:00     410 6th St, San Francisco, CA 94016  \n",
       "4 2019-12-18 12:38:00           43 Hill St, Atlanta, GA 30301  "
      ]
     },
     "execution_count": 22,
     "metadata": {},
     "output_type": "execute_result"
    }
   ],
   "source": [
    "# ps -> product sales\n",
    "ps_clean = product_sales_clean.copy()\n",
    "ps_clean.head()"
   ]
  },
  {
   "cell_type": "markdown",
   "id": "b31e14f2",
   "metadata": {},
   "source": [
    "Columns to add:\n",
    "1. Total Price = `Quantity Ordered * Price Each`\n",
    "2. Date = Date part from the `Order Date` column\n",
    "3. Month = Month part fromt the `Order Date` column\n",
    "4. Time = Time part from the `Order Date` column\n",
    "5. State = State name taken from `Purchase Address`\n",
    "6. City = City name taken from `Purchase Address`\n",
    "7. Zip Code = Zip code taken from `Purchase Address`"
   ]
  },
  {
   "cell_type": "code",
   "execution_count": 23,
   "id": "2da8d4cd",
   "metadata": {},
   "outputs": [
    {
     "data": {
      "text/html": [
       "<div>\n",
       "<style scoped>\n",
       "    .dataframe tbody tr th:only-of-type {\n",
       "        vertical-align: middle;\n",
       "    }\n",
       "\n",
       "    .dataframe tbody tr th {\n",
       "        vertical-align: top;\n",
       "    }\n",
       "\n",
       "    .dataframe thead th {\n",
       "        text-align: right;\n",
       "    }\n",
       "</style>\n",
       "<table border=\"1\" class=\"dataframe\">\n",
       "  <thead>\n",
       "    <tr style=\"text-align: right;\">\n",
       "      <th></th>\n",
       "      <th>Order ID</th>\n",
       "      <th>Product</th>\n",
       "      <th>Quantity Ordered</th>\n",
       "      <th>Price Each</th>\n",
       "      <th>Order Date</th>\n",
       "      <th>Purchase Address</th>\n",
       "      <th>Total Price</th>\n",
       "      <th>Date</th>\n",
       "      <th>Month</th>\n",
       "      <th>Hour</th>\n",
       "      <th>State</th>\n",
       "      <th>City</th>\n",
       "      <th>Zip Code</th>\n",
       "    </tr>\n",
       "  </thead>\n",
       "  <tbody>\n",
       "    <tr>\n",
       "      <th>0</th>\n",
       "      <td>295665</td>\n",
       "      <td>Macbook Pro Laptop</td>\n",
       "      <td>1</td>\n",
       "      <td>1700.000000</td>\n",
       "      <td>2019-12-30 00:01:00</td>\n",
       "      <td>136 Church St, New York City, NY 10001</td>\n",
       "      <td>1700.000000</td>\n",
       "      <td>2019-12-30</td>\n",
       "      <td>12</td>\n",
       "      <td>0</td>\n",
       "      <td>NY</td>\n",
       "      <td>New York City</td>\n",
       "      <td>10001</td>\n",
       "    </tr>\n",
       "    <tr>\n",
       "      <th>1</th>\n",
       "      <td>295666</td>\n",
       "      <td>LG Washing Machine</td>\n",
       "      <td>1</td>\n",
       "      <td>600.000000</td>\n",
       "      <td>2019-12-29 07:03:00</td>\n",
       "      <td>562 2nd St, New York City, NY 10001</td>\n",
       "      <td>600.000000</td>\n",
       "      <td>2019-12-29</td>\n",
       "      <td>12</td>\n",
       "      <td>7</td>\n",
       "      <td>NY</td>\n",
       "      <td>New York City</td>\n",
       "      <td>10001</td>\n",
       "    </tr>\n",
       "    <tr>\n",
       "      <th>2</th>\n",
       "      <td>295667</td>\n",
       "      <td>USB-C Charging Cable</td>\n",
       "      <td>1</td>\n",
       "      <td>11.950000</td>\n",
       "      <td>2019-12-12 18:21:00</td>\n",
       "      <td>277 Main St, New York City, NY 10001</td>\n",
       "      <td>11.950000</td>\n",
       "      <td>2019-12-12</td>\n",
       "      <td>12</td>\n",
       "      <td>18</td>\n",
       "      <td>NY</td>\n",
       "      <td>New York City</td>\n",
       "      <td>10001</td>\n",
       "    </tr>\n",
       "    <tr>\n",
       "      <th>3</th>\n",
       "      <td>295668</td>\n",
       "      <td>27in FHD Monitor</td>\n",
       "      <td>1</td>\n",
       "      <td>149.990005</td>\n",
       "      <td>2019-12-22 15:13:00</td>\n",
       "      <td>410 6th St, San Francisco, CA 94016</td>\n",
       "      <td>149.990005</td>\n",
       "      <td>2019-12-22</td>\n",
       "      <td>12</td>\n",
       "      <td>15</td>\n",
       "      <td>CA</td>\n",
       "      <td>San Francisco</td>\n",
       "      <td>94016</td>\n",
       "    </tr>\n",
       "    <tr>\n",
       "      <th>4</th>\n",
       "      <td>295669</td>\n",
       "      <td>USB-C Charging Cable</td>\n",
       "      <td>1</td>\n",
       "      <td>11.950000</td>\n",
       "      <td>2019-12-18 12:38:00</td>\n",
       "      <td>43 Hill St, Atlanta, GA 30301</td>\n",
       "      <td>11.950000</td>\n",
       "      <td>2019-12-18</td>\n",
       "      <td>12</td>\n",
       "      <td>12</td>\n",
       "      <td>GA</td>\n",
       "      <td>Atlanta</td>\n",
       "      <td>30301</td>\n",
       "    </tr>\n",
       "  </tbody>\n",
       "</table>\n",
       "</div>"
      ],
      "text/plain": [
       "  Order ID               Product  Quantity Ordered   Price Each  \\\n",
       "0   295665    Macbook Pro Laptop                 1  1700.000000   \n",
       "1   295666    LG Washing Machine                 1   600.000000   \n",
       "2   295667  USB-C Charging Cable                 1    11.950000   \n",
       "3   295668      27in FHD Monitor                 1   149.990005   \n",
       "4   295669  USB-C Charging Cable                 1    11.950000   \n",
       "\n",
       "           Order Date                        Purchase Address  Total Price  \\\n",
       "0 2019-12-30 00:01:00  136 Church St, New York City, NY 10001  1700.000000   \n",
       "1 2019-12-29 07:03:00     562 2nd St, New York City, NY 10001   600.000000   \n",
       "2 2019-12-12 18:21:00    277 Main St, New York City, NY 10001    11.950000   \n",
       "3 2019-12-22 15:13:00     410 6th St, San Francisco, CA 94016   149.990005   \n",
       "4 2019-12-18 12:38:00           43 Hill St, Atlanta, GA 30301    11.950000   \n",
       "\n",
       "         Date  Month  Hour State           City Zip Code  \n",
       "0  2019-12-30     12     0    NY  New York City    10001  \n",
       "1  2019-12-29     12     7    NY  New York City    10001  \n",
       "2  2019-12-12     12    18    NY  New York City    10001  \n",
       "3  2019-12-22     12    15    CA  San Francisco    94016  \n",
       "4  2019-12-18     12    12    GA        Atlanta    30301  "
      ]
     },
     "execution_count": 23,
     "metadata": {},
     "output_type": "execute_result"
    }
   ],
   "source": [
    "# add total price column\n",
    "ps_clean['Total Price'] = ps_clean['Quantity Ordered'] * ps_clean['Price Each']\n",
    "\n",
    "# add date column\n",
    "ps_clean['Date'] = ps_clean['Order Date'].dt.date\n",
    "\n",
    "# add month column\n",
    "ps_clean['Month'] = ps_clean['Order Date'].dt.month\n",
    "\n",
    "# add Hour column\n",
    "ps_clean['Hour'] = ps_clean['Order Date'].dt.hour\n",
    "\n",
    "# add state column\n",
    "ps_clean['State'] = ps_clean['Purchase Address'].str.split(pat=',').str[2].str.split(pat=' ').str[1]\n",
    "\n",
    "# add city column\n",
    "ps_clean['City'] = ps_clean['Purchase Address'].str.split(pat=',').str[1].str.strip()\n",
    "\n",
    "# add zip code column\n",
    "ps_clean['Zip Code'] = ps_clean['Purchase Address'].str.split(pat=',').str[2].str.split(pat=' ').str[-1]\n",
    "\n",
    "ps_clean.head()"
   ]
  },
  {
   "cell_type": "markdown",
   "id": "b46dbc88",
   "metadata": {},
   "source": [
    "As we know, different regions in a city have different zip codes. I want to know if there are only 1 region in each city. If there's only 1 region per city (1 zip code per city), I'm going to drop the `Zip Code` column since its redundant."
   ]
  },
  {
   "cell_type": "code",
   "execution_count": 24,
   "id": "f7dab7ec",
   "metadata": {},
   "outputs": [
    {
     "data": {
      "text/plain": [
       "State  City           Zip Code\n",
       "CA     Los Angeles    90001       29564\n",
       "       San Francisco  94016       44662\n",
       "GA     Atlanta        30301       14863\n",
       "MA     Boston         02215       19901\n",
       "ME     Portland       04101        2451\n",
       "NY     New York City  10001       24847\n",
       "OR     Portland       97035        9998\n",
       "TX     Austin         73301        9890\n",
       "       Dallas         75001       14797\n",
       "WA     Seattle        98101       14713\n",
       "dtype: int64"
      ]
     },
     "execution_count": 24,
     "metadata": {},
     "output_type": "execute_result"
    }
   ],
   "source": [
    "ps_clean.pivot_table(columns=['State', 'City', 'Zip Code'], aggfunc='size')"
   ]
  },
  {
   "cell_type": "markdown",
   "id": "e2c82f0b",
   "metadata": {},
   "source": [
    "It looks like there is only 1 region per city. Due to this reason, I'm going to drop the `Zip Code` column. <br><br>\n",
    "Aside from that, the order of the columns seem messy, Because of this, I'm going to rearrange the columns as well to make it easier to work with."
   ]
  },
  {
   "cell_type": "code",
   "execution_count": 25,
   "id": "cd5f78c2",
   "metadata": {},
   "outputs": [],
   "source": [
    "# dropping the zip code column\n",
    "ps_clean = ps_clean.drop('Zip Code', axis=1)"
   ]
  },
  {
   "cell_type": "code",
   "execution_count": 26,
   "id": "816fc383",
   "metadata": {},
   "outputs": [
    {
     "data": {
      "text/html": [
       "<div>\n",
       "<style scoped>\n",
       "    .dataframe tbody tr th:only-of-type {\n",
       "        vertical-align: middle;\n",
       "    }\n",
       "\n",
       "    .dataframe tbody tr th {\n",
       "        vertical-align: top;\n",
       "    }\n",
       "\n",
       "    .dataframe thead th {\n",
       "        text-align: right;\n",
       "    }\n",
       "</style>\n",
       "<table border=\"1\" class=\"dataframe\">\n",
       "  <thead>\n",
       "    <tr style=\"text-align: right;\">\n",
       "      <th></th>\n",
       "      <th>Order ID</th>\n",
       "      <th>Product</th>\n",
       "      <th>Quantity Ordered</th>\n",
       "      <th>Price Each</th>\n",
       "      <th>Total Price</th>\n",
       "      <th>Order Date</th>\n",
       "      <th>Date</th>\n",
       "      <th>Month</th>\n",
       "      <th>Hour</th>\n",
       "      <th>Purchase Address</th>\n",
       "      <th>City</th>\n",
       "      <th>State</th>\n",
       "    </tr>\n",
       "  </thead>\n",
       "  <tbody>\n",
       "    <tr>\n",
       "      <th>0</th>\n",
       "      <td>295665</td>\n",
       "      <td>Macbook Pro Laptop</td>\n",
       "      <td>1</td>\n",
       "      <td>1700.000000</td>\n",
       "      <td>1700.000000</td>\n",
       "      <td>2019-12-30 00:01:00</td>\n",
       "      <td>2019-12-30</td>\n",
       "      <td>12</td>\n",
       "      <td>0</td>\n",
       "      <td>136 Church St, New York City, NY 10001</td>\n",
       "      <td>New York City</td>\n",
       "      <td>NY</td>\n",
       "    </tr>\n",
       "    <tr>\n",
       "      <th>1</th>\n",
       "      <td>295666</td>\n",
       "      <td>LG Washing Machine</td>\n",
       "      <td>1</td>\n",
       "      <td>600.000000</td>\n",
       "      <td>600.000000</td>\n",
       "      <td>2019-12-29 07:03:00</td>\n",
       "      <td>2019-12-29</td>\n",
       "      <td>12</td>\n",
       "      <td>7</td>\n",
       "      <td>562 2nd St, New York City, NY 10001</td>\n",
       "      <td>New York City</td>\n",
       "      <td>NY</td>\n",
       "    </tr>\n",
       "    <tr>\n",
       "      <th>2</th>\n",
       "      <td>295667</td>\n",
       "      <td>USB-C Charging Cable</td>\n",
       "      <td>1</td>\n",
       "      <td>11.950000</td>\n",
       "      <td>11.950000</td>\n",
       "      <td>2019-12-12 18:21:00</td>\n",
       "      <td>2019-12-12</td>\n",
       "      <td>12</td>\n",
       "      <td>18</td>\n",
       "      <td>277 Main St, New York City, NY 10001</td>\n",
       "      <td>New York City</td>\n",
       "      <td>NY</td>\n",
       "    </tr>\n",
       "    <tr>\n",
       "      <th>3</th>\n",
       "      <td>295668</td>\n",
       "      <td>27in FHD Monitor</td>\n",
       "      <td>1</td>\n",
       "      <td>149.990005</td>\n",
       "      <td>149.990005</td>\n",
       "      <td>2019-12-22 15:13:00</td>\n",
       "      <td>2019-12-22</td>\n",
       "      <td>12</td>\n",
       "      <td>15</td>\n",
       "      <td>410 6th St, San Francisco, CA 94016</td>\n",
       "      <td>San Francisco</td>\n",
       "      <td>CA</td>\n",
       "    </tr>\n",
       "    <tr>\n",
       "      <th>4</th>\n",
       "      <td>295669</td>\n",
       "      <td>USB-C Charging Cable</td>\n",
       "      <td>1</td>\n",
       "      <td>11.950000</td>\n",
       "      <td>11.950000</td>\n",
       "      <td>2019-12-18 12:38:00</td>\n",
       "      <td>2019-12-18</td>\n",
       "      <td>12</td>\n",
       "      <td>12</td>\n",
       "      <td>43 Hill St, Atlanta, GA 30301</td>\n",
       "      <td>Atlanta</td>\n",
       "      <td>GA</td>\n",
       "    </tr>\n",
       "  </tbody>\n",
       "</table>\n",
       "</div>"
      ],
      "text/plain": [
       "  Order ID               Product  Quantity Ordered   Price Each  Total Price  \\\n",
       "0   295665    Macbook Pro Laptop                 1  1700.000000  1700.000000   \n",
       "1   295666    LG Washing Machine                 1   600.000000   600.000000   \n",
       "2   295667  USB-C Charging Cable                 1    11.950000    11.950000   \n",
       "3   295668      27in FHD Monitor                 1   149.990005   149.990005   \n",
       "4   295669  USB-C Charging Cable                 1    11.950000    11.950000   \n",
       "\n",
       "           Order Date        Date  Month  Hour  \\\n",
       "0 2019-12-30 00:01:00  2019-12-30     12     0   \n",
       "1 2019-12-29 07:03:00  2019-12-29     12     7   \n",
       "2 2019-12-12 18:21:00  2019-12-12     12    18   \n",
       "3 2019-12-22 15:13:00  2019-12-22     12    15   \n",
       "4 2019-12-18 12:38:00  2019-12-18     12    12   \n",
       "\n",
       "                         Purchase Address           City State  \n",
       "0  136 Church St, New York City, NY 10001  New York City    NY  \n",
       "1     562 2nd St, New York City, NY 10001  New York City    NY  \n",
       "2    277 Main St, New York City, NY 10001  New York City    NY  \n",
       "3     410 6th St, San Francisco, CA 94016  San Francisco    CA  \n",
       "4           43 Hill St, Atlanta, GA 30301        Atlanta    GA  "
      ]
     },
     "execution_count": 26,
     "metadata": {},
     "output_type": "execute_result"
    }
   ],
   "source": [
    "# rearrange column positions\n",
    "tot_price_col = ps_clean.pop('Total Price')\n",
    "date_col = ps_clean.pop('Date')\n",
    "time_col = ps_clean.pop('Hour')\n",
    "state_col = ps_clean.pop('State')\n",
    "city_col = ps_clean.pop('City')\n",
    "month_col = ps_clean.pop('Month')\n",
    "\n",
    "# insert the popped columns \n",
    "ps_clean.insert(ps_clean.columns.get_loc('Price Each') + 1, 'Total Price', tot_price_col)\n",
    "ps_clean.insert(ps_clean.columns.get_loc('Order Date') + 1, 'Date', date_col)\n",
    "ps_clean.insert(ps_clean.columns.get_loc('Date') + 1, 'Hour', time_col)\n",
    "ps_clean.insert(ps_clean.columns.get_loc('Purchase Address') + 1, 'City', city_col)\n",
    "ps_clean.insert(ps_clean.columns.get_loc('City') + 1, 'State', state_col)\n",
    "ps_clean.insert(ps_clean.columns.get_loc('Date') + 1, 'Month', month_col)\n",
    "\n",
    "ps_clean.head()"
   ]
  },
  {
   "cell_type": "markdown",
   "id": "62b3bf6f",
   "metadata": {},
   "source": [
    "Now that the dataframe looks easier to work with, I'm going to start answering the questions. <br><br>\n",
    "### What was the most bought product by month?"
   ]
  },
  {
   "cell_type": "code",
   "execution_count": 27,
   "id": "79ea2b6e",
   "metadata": {},
   "outputs": [
    {
     "data": {
      "text/html": [
       "<div>\n",
       "<style scoped>\n",
       "    .dataframe tbody tr th:only-of-type {\n",
       "        vertical-align: middle;\n",
       "    }\n",
       "\n",
       "    .dataframe tbody tr th {\n",
       "        vertical-align: top;\n",
       "    }\n",
       "\n",
       "    .dataframe thead th {\n",
       "        text-align: right;\n",
       "    }\n",
       "</style>\n",
       "<table border=\"1\" class=\"dataframe\">\n",
       "  <thead>\n",
       "    <tr style=\"text-align: right;\">\n",
       "      <th></th>\n",
       "      <th>Month</th>\n",
       "      <th>Product</th>\n",
       "      <th>Quantity Ordered</th>\n",
       "    </tr>\n",
       "  </thead>\n",
       "  <tbody>\n",
       "    <tr>\n",
       "      <th>5</th>\n",
       "      <td>1</td>\n",
       "      <td>AAA Batteries (4-pack)</td>\n",
       "      <td>1600.0</td>\n",
       "    </tr>\n",
       "    <tr>\n",
       "      <th>24</th>\n",
       "      <td>2</td>\n",
       "      <td>AAA Batteries (4-pack)</td>\n",
       "      <td>1971.0</td>\n",
       "    </tr>\n",
       "    <tr>\n",
       "      <th>43</th>\n",
       "      <td>3</td>\n",
       "      <td>AAA Batteries (4-pack)</td>\n",
       "      <td>2477.0</td>\n",
       "    </tr>\n",
       "    <tr>\n",
       "      <th>62</th>\n",
       "      <td>4</td>\n",
       "      <td>AAA Batteries (4-pack)</td>\n",
       "      <td>2936.0</td>\n",
       "    </tr>\n",
       "    <tr>\n",
       "      <th>81</th>\n",
       "      <td>5</td>\n",
       "      <td>AAA Batteries (4-pack)</td>\n",
       "      <td>2923.0</td>\n",
       "    </tr>\n",
       "    <tr>\n",
       "      <th>100</th>\n",
       "      <td>6</td>\n",
       "      <td>AAA Batteries (4-pack)</td>\n",
       "      <td>2161.0</td>\n",
       "    </tr>\n",
       "    <tr>\n",
       "      <th>119</th>\n",
       "      <td>7</td>\n",
       "      <td>AAA Batteries (4-pack)</td>\n",
       "      <td>2361.0</td>\n",
       "    </tr>\n",
       "    <tr>\n",
       "      <th>138</th>\n",
       "      <td>8</td>\n",
       "      <td>AAA Batteries (4-pack)</td>\n",
       "      <td>2019.0</td>\n",
       "    </tr>\n",
       "    <tr>\n",
       "      <th>157</th>\n",
       "      <td>9</td>\n",
       "      <td>AAA Batteries (4-pack)</td>\n",
       "      <td>1922.0</td>\n",
       "    </tr>\n",
       "    <tr>\n",
       "      <th>176</th>\n",
       "      <td>10</td>\n",
       "      <td>AAA Batteries (4-pack)</td>\n",
       "      <td>3357.0</td>\n",
       "    </tr>\n",
       "    <tr>\n",
       "      <th>195</th>\n",
       "      <td>11</td>\n",
       "      <td>AAA Batteries (4-pack)</td>\n",
       "      <td>3021.0</td>\n",
       "    </tr>\n",
       "    <tr>\n",
       "      <th>214</th>\n",
       "      <td>12</td>\n",
       "      <td>AAA Batteries (4-pack)</td>\n",
       "      <td>4238.0</td>\n",
       "    </tr>\n",
       "  </tbody>\n",
       "</table>\n",
       "</div>"
      ],
      "text/plain": [
       "     Month                 Product  Quantity Ordered\n",
       "5        1  AAA Batteries (4-pack)            1600.0\n",
       "24       2  AAA Batteries (4-pack)            1971.0\n",
       "43       3  AAA Batteries (4-pack)            2477.0\n",
       "62       4  AAA Batteries (4-pack)            2936.0\n",
       "81       5  AAA Batteries (4-pack)            2923.0\n",
       "100      6  AAA Batteries (4-pack)            2161.0\n",
       "119      7  AAA Batteries (4-pack)            2361.0\n",
       "138      8  AAA Batteries (4-pack)            2019.0\n",
       "157      9  AAA Batteries (4-pack)            1922.0\n",
       "176     10  AAA Batteries (4-pack)            3357.0\n",
       "195     11  AAA Batteries (4-pack)            3021.0\n",
       "214     12  AAA Batteries (4-pack)            4238.0"
      ]
     },
     "execution_count": 27,
     "metadata": {},
     "output_type": "execute_result"
    }
   ],
   "source": [
    "most_bought = ps_clean.groupby(['Month', 'Product']).agg({'Quantity Ordered':'sum'})\n",
    "most_bought = most_bought.reset_index().sort_values(['Month', 'Quantity Ordered'], ascending=[True, False])\n",
    "most_bought_filter = most_bought.groupby('Month').agg({'Quantity Ordered':'max'})\n",
    "most_bought_final = most_bought[most_bought['Quantity Ordered'].isin(most_bought_filter['Quantity Ordered'])]\n",
    "most_bought_final"
   ]
  },
  {
   "cell_type": "markdown",
   "id": "18555731",
   "metadata": {},
   "source": [
    "From the results above, it looks like AAA Batteries (4-pack) was the most popular product for 12 straight months. <br><br>\n",
    "### What was the top 5 most bought product by year?"
   ]
  },
  {
   "cell_type": "code",
   "execution_count": 28,
   "id": "50f866c2",
   "metadata": {},
   "outputs": [
    {
     "data": {
      "image/png": "[encoded data removed]",
      "text/plain": [
       "<Figure size 432x288 with 1 Axes>"
      ]
     },
     "metadata": {
      "needs_background": "light"
     },
     "output_type": "display_data"
    }
   ],
   "source": [
    "most_bought_year = ps_clean.groupby(['Product']).sum()\n",
    "most_bought_year = most_bought_year.reset_index()\n",
    "top_5_products = most_bought_year[['Product', 'Quantity Ordered']].sort_values('Quantity Ordered', ascending=False)\n",
    "top_5_products = top_5_products.head()\n",
    "top_5_products\n",
    "\n",
    "top_5_products = most_bought_year[['Product', 'Quantity Ordered']].sort_values('Quantity Ordered', ascending=False)\n",
    "top_5_products = top_5_products.head()\n",
    "\n",
    "# create bar chart\n",
    "def addlabels(x,y,offset=100): # This function will be used to label each bar chart\n",
    "    for i in range(len(x)):\n",
    "        plt.text(i, y[i]+offset, y[i], ha = 'center')\n",
    "        \n",
    "plt.bar(top_5_products['Product'], top_5_products['Quantity Ordered'])\n",
    "plt.xlabel('Product Name')\n",
    "plt.xticks(rotation=90)\n",
    "plt.ylim([0, 35000])\n",
    "plt.ylabel('Quantity Ordered')\n",
    "plt.title('Top 5 Most Bought Products')\n",
    "plt.show()"
   ]
  },
  {
   "cell_type": "markdown",
   "id": "c2a643e3",
   "metadata": {},
   "source": [
    "The results above show the top 5 most bought products in 2019. As seen above, the number one spot belongs to AAA batteries followed by AA batteries, USB-C charging cable, USB-C charging cable and wired headphones respectively.\n",
    "\n",
    "### What was the total revenue by month?"
   ]
  },
  {
   "cell_type": "code",
   "execution_count": 29,
   "id": "d0259306",
   "metadata": {},
   "outputs": [
    {
     "data": {
      "image/png": "[encoded data removed]",
      "text/plain": [
       "<Figure size 720x360 with 1 Axes>"
      ]
     },
     "metadata": {
      "needs_background": "light"
     },
     "output_type": "display_data"
    }
   ],
   "source": [
    "# revenue by month\n",
    "import calendar\n",
    "\n",
    "revenue = ps_clean.groupby('Month').agg({'Total Price':'sum'}).reset_index()\n",
    "revenue['Total Price'] = revenue['Total Price'].apply(lambda x: round(x))\n",
    "revenue['Month'] = revenue['Month'].apply(lambda x: calendar.month_abbr[x])\n",
    "\n",
    "f = plt.figure()\n",
    "f.set_figwidth(10)\n",
    "f.set_figheight(5)\n",
    "plt.bar(revenue['Month'], revenue['Total Price'])\n",
    "plt.plot(revenue['Month'], revenue['Total Price'], marker='o', color='red')\n",
    "plt.xlabel('Month')\n",
    "plt.ylim([0, 5e6])\n",
    "plt.ylabel('Total Price ($)')\n",
    "plt.title('Revenue by Month')\n",
    "addlabels(revenue['Month'], revenue['Total Price'], 1e5)\n",
    "plt.show()"
   ]
  },
  {
   "cell_type": "markdown",
   "id": "37cb77ae",
   "metadata": {},
   "source": [
    "From the graph, December generated the highest revenue. The overall trend of the graph is increasing except for April through September. The cause, however, is still unknown.\n",
    "\n",
    "### Dive Deeper\n",
    "For the next part, I'm going dive deeper by counting the number of products bought for each month."
   ]
  },
  {
   "cell_type": "code",
   "execution_count": 30,
   "id": "08330667",
   "metadata": {},
   "outputs": [
    {
     "data": {
      "image/png": "[encoded data removed]",
      "text/plain": [
       "<Figure size 720x360 with 1 Axes>"
      ]
     },
     "metadata": {
      "needs_background": "light"
     },
     "output_type": "display_data"
    }
   ],
   "source": [
    "# number of products bought each month\n",
    "prod_month = ps_clean.groupby('Month').agg({'Product':'count'}).reset_index()\n",
    "prod_month['Month'] = prod_month['Month'].apply(lambda x: calendar.month_abbr[x])\n",
    "\n",
    "# create bar chart\n",
    "f = plt.figure()\n",
    "f.set_figwidth(10)\n",
    "f.set_figheight(5)\n",
    "plt.bar(prod_month['Month'], prod_month['Product'])\n",
    "plt.plot(prod_month['Month'], prod_month['Product'], marker='o', color='red')\n",
    "plt.xlabel('Month')\n",
    "plt.ylim([0, 28000])\n",
    "plt.ylabel('No. of Products Sold')\n",
    "plt.title('Number of Products Sold by Month')\n",
    "addlabels(prod_month['Month'], prod_month['Product'], 1000)\n",
    "plt.show()"
   ]
  },
  {
   "cell_type": "markdown",
   "id": "e7295a5b",
   "metadata": {},
   "source": [
    "The trend above looks very similar to the revenue graph trend with December having the highest number of products sold and January with the lowest number of products sold. The overall trend is also increasing except for April through September.\n",
    "\n",
    "Next, I'm going to see which products are the most popular in each state."
   ]
  },
  {
   "cell_type": "code",
   "execution_count": 31,
   "id": "27aa43c6",
   "metadata": {},
   "outputs": [
    {
     "data": {
      "text/html": [
       "<div>\n",
       "<style scoped>\n",
       "    .dataframe tbody tr th:only-of-type {\n",
       "        vertical-align: middle;\n",
       "    }\n",
       "\n",
       "    .dataframe tbody tr th {\n",
       "        vertical-align: top;\n",
       "    }\n",
       "\n",
       "    .dataframe thead th {\n",
       "        text-align: right;\n",
       "    }\n",
       "</style>\n",
       "<table border=\"1\" class=\"dataframe\">\n",
       "  <thead>\n",
       "    <tr style=\"text-align: right;\">\n",
       "      <th></th>\n",
       "      <th>State</th>\n",
       "      <th>Product</th>\n",
       "      <th>Quantity Ordered</th>\n",
       "    </tr>\n",
       "  </thead>\n",
       "  <tbody>\n",
       "    <tr>\n",
       "      <th>5</th>\n",
       "      <td>CA</td>\n",
       "      <td>AAA Batteries (4-pack)</td>\n",
       "      <td>12362.0</td>\n",
       "    </tr>\n",
       "    <tr>\n",
       "      <th>119</th>\n",
       "      <td>TX</td>\n",
       "      <td>AAA Batteries (4-pack)</td>\n",
       "      <td>4168.0</td>\n",
       "    </tr>\n",
       "    <tr>\n",
       "      <th>81</th>\n",
       "      <td>NY</td>\n",
       "      <td>AAA Batteries (4-pack)</td>\n",
       "      <td>4119.0</td>\n",
       "    </tr>\n",
       "    <tr>\n",
       "      <th>43</th>\n",
       "      <td>MA</td>\n",
       "      <td>AAA Batteries (4-pack)</td>\n",
       "      <td>3458.0</td>\n",
       "    </tr>\n",
       "    <tr>\n",
       "      <th>138</th>\n",
       "      <td>WA</td>\n",
       "      <td>AAA Batteries (4-pack)</td>\n",
       "      <td>2443.0</td>\n",
       "    </tr>\n",
       "    <tr>\n",
       "      <th>24</th>\n",
       "      <td>GA</td>\n",
       "      <td>AAA Batteries (4-pack)</td>\n",
       "      <td>2358.0</td>\n",
       "    </tr>\n",
       "    <tr>\n",
       "      <th>100</th>\n",
       "      <td>OR</td>\n",
       "      <td>AAA Batteries (4-pack)</td>\n",
       "      <td>1720.0</td>\n",
       "    </tr>\n",
       "    <tr>\n",
       "      <th>61</th>\n",
       "      <td>ME</td>\n",
       "      <td>AA Batteries (4-pack)</td>\n",
       "      <td>389.0</td>\n",
       "    </tr>\n",
       "  </tbody>\n",
       "</table>\n",
       "</div>"
      ],
      "text/plain": [
       "    State                 Product  Quantity Ordered\n",
       "5      CA  AAA Batteries (4-pack)           12362.0\n",
       "119    TX  AAA Batteries (4-pack)            4168.0\n",
       "81     NY  AAA Batteries (4-pack)            4119.0\n",
       "43     MA  AAA Batteries (4-pack)            3458.0\n",
       "138    WA  AAA Batteries (4-pack)            2443.0\n",
       "24     GA  AAA Batteries (4-pack)            2358.0\n",
       "100    OR  AAA Batteries (4-pack)            1720.0\n",
       "61     ME   AA Batteries (4-pack)             389.0"
      ]
     },
     "execution_count": 31,
     "metadata": {},
     "output_type": "execute_result"
    }
   ],
   "source": [
    "# most bought item per state\n",
    "prod_state = ps_clean.groupby(['State', 'Product']).sum().reset_index()\n",
    "prod_state = prod_state.sort_values('Quantity Ordered', ascending=False)\n",
    "prod_state_filter = prod_state.groupby('State').max()\n",
    "prod_state_final = prod_state[prod_state['Quantity Ordered'].isin(prod_state_filter['Quantity Ordered'])]\n",
    "prod_state_final[['State', 'Product', 'Quantity Ordered']]"
   ]
  },
  {
   "cell_type": "markdown",
   "id": "19db42d9",
   "metadata": {},
   "source": [
    "The table above shows that AAA batteries were the most bought item in every single state except for ME since the most bought item was AA batteries.\n",
    "\n",
    "Next, I'm going to check which products are the most popular in each city."
   ]
  },
  {
   "cell_type": "code",
   "execution_count": 32,
   "id": "25c64b91",
   "metadata": {},
   "outputs": [
    {
     "data": {
      "text/html": [
       "<div>\n",
       "<style scoped>\n",
       "    .dataframe tbody tr th:only-of-type {\n",
       "        vertical-align: middle;\n",
       "    }\n",
       "\n",
       "    .dataframe tbody tr th {\n",
       "        vertical-align: top;\n",
       "    }\n",
       "\n",
       "    .dataframe thead th {\n",
       "        text-align: right;\n",
       "    }\n",
       "</style>\n",
       "<table border=\"1\" class=\"dataframe\">\n",
       "  <thead>\n",
       "    <tr style=\"text-align: right;\">\n",
       "      <th></th>\n",
       "      <th>City</th>\n",
       "      <th>Product</th>\n",
       "      <th>Quantity Ordered</th>\n",
       "    </tr>\n",
       "  </thead>\n",
       "  <tbody>\n",
       "    <tr>\n",
       "      <th>138</th>\n",
       "      <td>San Francisco</td>\n",
       "      <td>AAA Batteries (4-pack)</td>\n",
       "      <td>7404.0</td>\n",
       "    </tr>\n",
       "    <tr>\n",
       "      <th>81</th>\n",
       "      <td>Los Angeles</td>\n",
       "      <td>AAA Batteries (4-pack)</td>\n",
       "      <td>4958.0</td>\n",
       "    </tr>\n",
       "    <tr>\n",
       "      <th>100</th>\n",
       "      <td>New York City</td>\n",
       "      <td>AAA Batteries (4-pack)</td>\n",
       "      <td>4119.0</td>\n",
       "    </tr>\n",
       "    <tr>\n",
       "      <th>43</th>\n",
       "      <td>Boston</td>\n",
       "      <td>AAA Batteries (4-pack)</td>\n",
       "      <td>3458.0</td>\n",
       "    </tr>\n",
       "    <tr>\n",
       "      <th>62</th>\n",
       "      <td>Dallas</td>\n",
       "      <td>AAA Batteries (4-pack)</td>\n",
       "      <td>2500.0</td>\n",
       "    </tr>\n",
       "    <tr>\n",
       "      <th>157</th>\n",
       "      <td>Seattle</td>\n",
       "      <td>AAA Batteries (4-pack)</td>\n",
       "      <td>2443.0</td>\n",
       "    </tr>\n",
       "    <tr>\n",
       "      <th>5</th>\n",
       "      <td>Atlanta</td>\n",
       "      <td>AAA Batteries (4-pack)</td>\n",
       "      <td>2358.0</td>\n",
       "    </tr>\n",
       "    <tr>\n",
       "      <th>119</th>\n",
       "      <td>Portland</td>\n",
       "      <td>AAA Batteries (4-pack)</td>\n",
       "      <td>2078.0</td>\n",
       "    </tr>\n",
       "    <tr>\n",
       "      <th>24</th>\n",
       "      <td>Austin</td>\n",
       "      <td>AAA Batteries (4-pack)</td>\n",
       "      <td>1668.0</td>\n",
       "    </tr>\n",
       "  </tbody>\n",
       "</table>\n",
       "</div>"
      ],
      "text/plain": [
       "              City                 Product  Quantity Ordered\n",
       "138  San Francisco  AAA Batteries (4-pack)            7404.0\n",
       "81     Los Angeles  AAA Batteries (4-pack)            4958.0\n",
       "100  New York City  AAA Batteries (4-pack)            4119.0\n",
       "43          Boston  AAA Batteries (4-pack)            3458.0\n",
       "62          Dallas  AAA Batteries (4-pack)            2500.0\n",
       "157        Seattle  AAA Batteries (4-pack)            2443.0\n",
       "5          Atlanta  AAA Batteries (4-pack)            2358.0\n",
       "119       Portland  AAA Batteries (4-pack)            2078.0\n",
       "24          Austin  AAA Batteries (4-pack)            1668.0"
      ]
     },
     "execution_count": 32,
     "metadata": {},
     "output_type": "execute_result"
    }
   ],
   "source": [
    "# most item bought per city\n",
    "prod_city = ps_clean.groupby(['City', 'Product']).sum().reset_index()\n",
    "prod_city = prod_city.sort_values('Quantity Ordered', ascending=False)\n",
    "prod_city_filter = prod_city.groupby('City').max()\n",
    "\n",
    "prod_city_final = prod_city[prod_city['Quantity Ordered'].isin(prod_city_filter['Quantity Ordered'])]\n",
    "prod_city_final[['City', 'Product', 'Quantity Ordered']]"
   ]
  },
  {
   "cell_type": "markdown",
   "id": "72984c37",
   "metadata": {},
   "source": [
    "The results shows that AAA Batteries were the most bought item in each city. However, something doesn't add up. When looking at the previous result, AA batteries can be observed. On this result, it's nowhere to be found. Something wrong is going on here and I'm going to find out what went wrong."
   ]
  },
  {
   "cell_type": "code",
   "execution_count": 33,
   "id": "92fa8107",
   "metadata": {},
   "outputs": [
    {
     "data": {
      "text/html": [
       "<div>\n",
       "<style scoped>\n",
       "    .dataframe tbody tr th:only-of-type {\n",
       "        vertical-align: middle;\n",
       "    }\n",
       "\n",
       "    .dataframe tbody tr th {\n",
       "        vertical-align: top;\n",
       "    }\n",
       "\n",
       "    .dataframe thead th {\n",
       "        text-align: right;\n",
       "    }\n",
       "</style>\n",
       "<table border=\"1\" class=\"dataframe\">\n",
       "  <thead>\n",
       "    <tr style=\"text-align: right;\">\n",
       "      <th></th>\n",
       "      <th>State</th>\n",
       "      <th>Product</th>\n",
       "      <th>Quantity Ordered</th>\n",
       "    </tr>\n",
       "  </thead>\n",
       "  <tbody>\n",
       "    <tr>\n",
       "      <th>61</th>\n",
       "      <td>ME</td>\n",
       "      <td>AA Batteries (4-pack)</td>\n",
       "      <td>389.0</td>\n",
       "    </tr>\n",
       "    <tr>\n",
       "      <th>62</th>\n",
       "      <td>ME</td>\n",
       "      <td>AAA Batteries (4-pack)</td>\n",
       "      <td>358.0</td>\n",
       "    </tr>\n",
       "    <tr>\n",
       "      <th>72</th>\n",
       "      <td>ME</td>\n",
       "      <td>USB-C Charging Cable</td>\n",
       "      <td>339.0</td>\n",
       "    </tr>\n",
       "    <tr>\n",
       "      <th>74</th>\n",
       "      <td>ME</td>\n",
       "      <td>Wired Headphones</td>\n",
       "      <td>279.0</td>\n",
       "    </tr>\n",
       "    <tr>\n",
       "      <th>69</th>\n",
       "      <td>ME</td>\n",
       "      <td>Lightning Charging Cable</td>\n",
       "      <td>268.0</td>\n",
       "    </tr>\n",
       "  </tbody>\n",
       "</table>\n",
       "</div>"
      ],
      "text/plain": [
       "   State                   Product  Quantity Ordered\n",
       "61    ME     AA Batteries (4-pack)             389.0\n",
       "62    ME    AAA Batteries (4-pack)             358.0\n",
       "72    ME      USB-C Charging Cable             339.0\n",
       "74    ME          Wired Headphones             279.0\n",
       "69    ME  Lightning Charging Cable             268.0"
      ]
     },
     "metadata": {},
     "output_type": "display_data"
    },
    {
     "data": {
      "text/html": [
       "<div>\n",
       "<style scoped>\n",
       "    .dataframe tbody tr th:only-of-type {\n",
       "        vertical-align: middle;\n",
       "    }\n",
       "\n",
       "    .dataframe tbody tr th {\n",
       "        vertical-align: top;\n",
       "    }\n",
       "\n",
       "    .dataframe thead th {\n",
       "        text-align: right;\n",
       "    }\n",
       "</style>\n",
       "<table border=\"1\" class=\"dataframe\">\n",
       "  <thead>\n",
       "    <tr style=\"text-align: right;\">\n",
       "      <th></th>\n",
       "      <th>City</th>\n",
       "      <th>Product</th>\n",
       "      <th>Quantity Ordered</th>\n",
       "    </tr>\n",
       "  </thead>\n",
       "  <tbody>\n",
       "    <tr>\n",
       "      <th>119</th>\n",
       "      <td>Portland</td>\n",
       "      <td>AAA Batteries (4-pack)</td>\n",
       "      <td>2078.0</td>\n",
       "    </tr>\n",
       "    <tr>\n",
       "      <th>118</th>\n",
       "      <td>Portland</td>\n",
       "      <td>AA Batteries (4-pack)</td>\n",
       "      <td>1939.0</td>\n",
       "    </tr>\n",
       "    <tr>\n",
       "      <th>129</th>\n",
       "      <td>Portland</td>\n",
       "      <td>USB-C Charging Cable</td>\n",
       "      <td>1580.0</td>\n",
       "    </tr>\n",
       "    <tr>\n",
       "      <th>126</th>\n",
       "      <td>Portland</td>\n",
       "      <td>Lightning Charging Cable</td>\n",
       "      <td>1528.0</td>\n",
       "    </tr>\n",
       "    <tr>\n",
       "      <th>131</th>\n",
       "      <td>Portland</td>\n",
       "      <td>Wired Headphones</td>\n",
       "      <td>1360.0</td>\n",
       "    </tr>\n",
       "  </tbody>\n",
       "</table>\n",
       "</div>"
      ],
      "text/plain": [
       "         City                   Product  Quantity Ordered\n",
       "119  Portland    AAA Batteries (4-pack)            2078.0\n",
       "118  Portland     AA Batteries (4-pack)            1939.0\n",
       "129  Portland      USB-C Charging Cable            1580.0\n",
       "126  Portland  Lightning Charging Cable            1528.0\n",
       "131  Portland          Wired Headphones            1360.0"
      ]
     },
     "metadata": {},
     "output_type": "display_data"
    }
   ],
   "source": [
    "display(prod_state[prod_state['State'] == 'ME'][['State', 'Product', 'Quantity Ordered']].head(),\n",
    "        prod_city[prod_city['City'] == 'Portland'][['City', 'Product', 'Quantity Ordered']].head())"
   ]
  },
  {
   "cell_type": "markdown",
   "id": "519dec2b",
   "metadata": {},
   "source": [
    "As seen above, the quantity ordered numbers doesn't add up. I'm going to filter for portland along with its state to see what's actually going on."
   ]
  },
  {
   "cell_type": "code",
   "execution_count": 34,
   "id": "96c66d6c",
   "metadata": {},
   "outputs": [
    {
     "data": {
      "text/html": [
       "<div>\n",
       "<style scoped>\n",
       "    .dataframe tbody tr th:only-of-type {\n",
       "        vertical-align: middle;\n",
       "    }\n",
       "\n",
       "    .dataframe tbody tr th {\n",
       "        vertical-align: top;\n",
       "    }\n",
       "\n",
       "    .dataframe thead th {\n",
       "        text-align: right;\n",
       "    }\n",
       "</style>\n",
       "<table border=\"1\" class=\"dataframe\">\n",
       "  <thead>\n",
       "    <tr style=\"text-align: right;\">\n",
       "      <th></th>\n",
       "      <th>City</th>\n",
       "      <th>State</th>\n",
       "    </tr>\n",
       "  </thead>\n",
       "  <tbody>\n",
       "    <tr>\n",
       "      <th>6</th>\n",
       "      <td>Portland</td>\n",
       "      <td>OR</td>\n",
       "    </tr>\n",
       "    <tr>\n",
       "      <th>24</th>\n",
       "      <td>Portland</td>\n",
       "      <td>ME</td>\n",
       "    </tr>\n",
       "  </tbody>\n",
       "</table>\n",
       "</div>"
      ],
      "text/plain": [
       "        City State\n",
       "6   Portland    OR\n",
       "24  Portland    ME"
      ]
     },
     "execution_count": 34,
     "metadata": {},
     "output_type": "execute_result"
    }
   ],
   "source": [
    "# filter for portland\n",
    "portland = ps_clean[ps_clean['Purchase Address'].str.contains('Portland')]\n",
    "portland = portland[['City', 'State']].drop_duplicates()\n",
    "portland"
   ]
  },
  {
   "cell_type": "markdown",
   "id": "fc6a3b71",
   "metadata": {},
   "source": [
    "It looks like there were two Portlands in USA. The first one is Portland, Oregon and the other one is Portland, Maine. In order to solve this problem, I'm going to combine the city name alongside with its state name."
   ]
  },
  {
   "cell_type": "code",
   "execution_count": 35,
   "id": "67d0fccc",
   "metadata": {},
   "outputs": [],
   "source": [
    "ps_clean['City'] = ps_clean['City'] + ' (' + ps_clean['State'] + ') '"
   ]
  },
  {
   "cell_type": "code",
   "execution_count": 36,
   "id": "98e86ba7",
   "metadata": {},
   "outputs": [
    {
     "data": {
      "text/html": [
       "<div>\n",
       "<style scoped>\n",
       "    .dataframe tbody tr th:only-of-type {\n",
       "        vertical-align: middle;\n",
       "    }\n",
       "\n",
       "    .dataframe tbody tr th {\n",
       "        vertical-align: top;\n",
       "    }\n",
       "\n",
       "    .dataframe thead th {\n",
       "        text-align: right;\n",
       "    }\n",
       "</style>\n",
       "<table border=\"1\" class=\"dataframe\">\n",
       "  <thead>\n",
       "    <tr style=\"text-align: right;\">\n",
       "      <th></th>\n",
       "      <th>City</th>\n",
       "      <th>Product</th>\n",
       "      <th>Quantity Ordered</th>\n",
       "    </tr>\n",
       "  </thead>\n",
       "  <tbody>\n",
       "    <tr>\n",
       "      <th>157</th>\n",
       "      <td>San Francisco (CA)</td>\n",
       "      <td>AAA Batteries (4-pack)</td>\n",
       "      <td>7404.0</td>\n",
       "    </tr>\n",
       "    <tr>\n",
       "      <th>81</th>\n",
       "      <td>Los Angeles (CA)</td>\n",
       "      <td>AAA Batteries (4-pack)</td>\n",
       "      <td>4958.0</td>\n",
       "    </tr>\n",
       "    <tr>\n",
       "      <th>100</th>\n",
       "      <td>New York City (NY)</td>\n",
       "      <td>AAA Batteries (4-pack)</td>\n",
       "      <td>4119.0</td>\n",
       "    </tr>\n",
       "    <tr>\n",
       "      <th>43</th>\n",
       "      <td>Boston (MA)</td>\n",
       "      <td>AAA Batteries (4-pack)</td>\n",
       "      <td>3458.0</td>\n",
       "    </tr>\n",
       "    <tr>\n",
       "      <th>62</th>\n",
       "      <td>Dallas (TX)</td>\n",
       "      <td>AAA Batteries (4-pack)</td>\n",
       "      <td>2500.0</td>\n",
       "    </tr>\n",
       "    <tr>\n",
       "      <th>176</th>\n",
       "      <td>Seattle (WA)</td>\n",
       "      <td>AAA Batteries (4-pack)</td>\n",
       "      <td>2443.0</td>\n",
       "    </tr>\n",
       "    <tr>\n",
       "      <th>5</th>\n",
       "      <td>Atlanta (GA)</td>\n",
       "      <td>AAA Batteries (4-pack)</td>\n",
       "      <td>2358.0</td>\n",
       "    </tr>\n",
       "    <tr>\n",
       "      <th>138</th>\n",
       "      <td>Portland (OR)</td>\n",
       "      <td>AAA Batteries (4-pack)</td>\n",
       "      <td>1720.0</td>\n",
       "    </tr>\n",
       "    <tr>\n",
       "      <th>24</th>\n",
       "      <td>Austin (TX)</td>\n",
       "      <td>AAA Batteries (4-pack)</td>\n",
       "      <td>1668.0</td>\n",
       "    </tr>\n",
       "    <tr>\n",
       "      <th>118</th>\n",
       "      <td>Portland (ME)</td>\n",
       "      <td>AA Batteries (4-pack)</td>\n",
       "      <td>389.0</td>\n",
       "    </tr>\n",
       "  </tbody>\n",
       "</table>\n",
       "</div>"
      ],
      "text/plain": [
       "                    City                 Product  Quantity Ordered\n",
       "157  San Francisco (CA)   AAA Batteries (4-pack)            7404.0\n",
       "81     Los Angeles (CA)   AAA Batteries (4-pack)            4958.0\n",
       "100  New York City (NY)   AAA Batteries (4-pack)            4119.0\n",
       "43          Boston (MA)   AAA Batteries (4-pack)            3458.0\n",
       "62          Dallas (TX)   AAA Batteries (4-pack)            2500.0\n",
       "176        Seattle (WA)   AAA Batteries (4-pack)            2443.0\n",
       "5          Atlanta (GA)   AAA Batteries (4-pack)            2358.0\n",
       "138       Portland (OR)   AAA Batteries (4-pack)            1720.0\n",
       "24          Austin (TX)   AAA Batteries (4-pack)            1668.0\n",
       "118       Portland (ME)    AA Batteries (4-pack)             389.0"
      ]
     },
     "execution_count": 36,
     "metadata": {},
     "output_type": "execute_result"
    }
   ],
   "source": [
    "# most bought item per city corrected version\n",
    "prod_city = ps_clean.groupby(['City', 'Product']).sum().reset_index()\n",
    "prod_city = prod_city.sort_values('Quantity Ordered', ascending=False)\n",
    "prod_city_filter = prod_city.groupby('City').max()\n",
    "\n",
    "prod_city_final = prod_city[prod_city['Quantity Ordered'].isin(prod_city_filter['Quantity Ordered'])]\n",
    "prod_city_final[['City', 'Product', 'Quantity Ordered']]"
   ]
  },
  {
   "cell_type": "markdown",
   "id": "c910f227",
   "metadata": {},
   "source": [
    "The result above looks accurate since the numbers all add up to the `prod_state_final` result. It can be seen that the most popular item bought was AAA batteries for in every city except for Portland (ME). \n",
    "\n",
    "Next, I'm going to see the revenue in each city. I'm not going to see the revenue for each state since in this case, the dataset only contains one city for each state except for the state of California. Making two graphs for each will result in the exact same graph except for the previous state mentioned."
   ]
  },
  {
   "cell_type": "code",
   "execution_count": 37,
   "id": "3be0dc3a",
   "metadata": {},
   "outputs": [
    {
     "data": {
      "image/png": "[encoded data removed]",
      "text/plain": [
       "<Figure size 720x360 with 1 Axes>"
      ]
     },
     "metadata": {
      "needs_background": "light"
     },
     "output_type": "display_data"
    }
   ],
   "source": [
    "# revenue by city\n",
    "rev_city = ps_clean.groupby('City').sum()['Total Price'].reset_index()\n",
    "rev_city['Total Price'] = rev_city['Total Price'].apply(lambda x: round(x))\n",
    "\n",
    "# create bar chart\n",
    "f = plt.figure()\n",
    "f.set_figwidth(10)\n",
    "f.set_figheight(5)\n",
    "plt.bar(rev_city['City'], rev_city['Total Price'])\n",
    "plt.xlabel('City')\n",
    "plt.ylabel('Revenue ($)')\n",
    "plt.ylim([0, 9e6])\n",
    "plt.title('Total Revenue by City')\n",
    "plt.xticks(rotation=90)\n",
    "addlabels(rev_city['City'], rev_city['Total Price'], 1e5)\n",
    "plt.savefig('images/total_revenue_by_city.png')\n",
    "plt.show()"
   ]
  },
  {
   "cell_type": "markdown",
   "id": "357571fb",
   "metadata": {},
   "source": [
    "From the results, San Francisco was the one that had the most revenue with a value of \\\\$8,254,744. This is then followed by LA with a revenue of \\\\$5,448,304. The city which generated the least revenue was Portland (ME) with a value of \\\\$449,321.\n",
    "\n",
    "This means that the management of the company should focus on Portland (ME) to increase their sales since it's the only city that only generated revenue with 6 figures while the rest generated 7 figures.\n",
    "\n",
    "I'm going to dive deeper to see which cities generated the most revenue by month"
   ]
  },
  {
   "cell_type": "code",
   "execution_count": 38,
   "id": "9c5828ed",
   "metadata": {},
   "outputs": [
    {
     "data": {
      "image/png": "[encoded data removed]",
      "text/plain": [
       "<Figure size 1080x1440 with 12 Axes>"
      ]
     },
     "metadata": {
      "needs_background": "light"
     },
     "output_type": "display_data"
    }
   ],
   "source": [
    "# cities that generated the most revenue by month\n",
    "rev_city_month = ps_clean.groupby(['Month', 'City']).sum().reset_index()\n",
    "rev_city_month['Month'] = rev_city_month['Month'].apply(lambda x: calendar.month_abbr[x])\n",
    "\n",
    "import warnings\n",
    "warnings.simplefilter('ignore', UserWarning)\n",
    "\n",
    "palette = sns.color_palette('husl', 5)\n",
    "g = sns.catplot(x='City', y='Total Price', data=rev_city_month, \n",
    "                kind='bar', col='Month', col_wrap=3, palette=palette,\n",
    "                sharex=False)\n",
    "g.set_xticklabels(rotation=90)\n",
    "plt.subplots_adjust(hspace=.6)\n",
    "plt.show()"
   ]
  },
  {
   "cell_type": "markdown",
   "id": "e721f3bd",
   "metadata": {},
   "source": [
    "Although the values of revenues for each month per city varies, the trend is still exactly the same. There are no major differences between the trend of each month with the overall trend of revenues by city.\n",
    "\n",
    "Next, I'm going to see at which time does customers usually buy products."
   ]
  },
  {
   "cell_type": "code",
   "execution_count": 39,
   "id": "9dfb029c",
   "metadata": {},
   "outputs": [
    {
     "data": {
      "image/png": "[encoded data removed]",
      "text/plain": [
       "<Figure size 720x360 with 1 Axes>"
      ]
     },
     "metadata": {
      "needs_background": "light"
     },
     "output_type": "display_data"
    }
   ],
   "source": [
    "prod_time = ps_clean.groupby('Hour').sum().reset_index()\n",
    "prod_time = prod_time[['Hour', 'Quantity Ordered']]\n",
    "\n",
    "# create line plot\n",
    "f = plt.figure()\n",
    "f.set_figwidth(10)\n",
    "f.set_figheight(5)\n",
    "plt.plot(prod_time['Hour'], prod_time['Quantity Ordered'])\n",
    "plt.xlabel('Time (hours)')\n",
    "plt.xticks(prod_time['Hour'])\n",
    "plt.ylabel('No. of Products Bought')\n",
    "plt.title('Number of Products Bought Over Time')\n",
    "plt.grid()\n",
    "plt.show()"
   ]
  },
  {
   "cell_type": "markdown",
   "id": "1ee2f2b6",
   "metadata": {},
   "source": [
    "The figure shows that the peak time for customers to buy things were at 12 PM and 7 PM. This means that if the advertising team wants to advertise new products, they should advertise their products 11 AM, 12 PM, 18 PM or 19 PM.\n",
    "\n",
    "I'm going to dive deeper by looking at the number of products bought over time in each city."
   ]
  },
  {
   "cell_type": "code",
   "execution_count": 40,
   "id": "05b630e7",
   "metadata": {
    "scrolled": false
   },
   "outputs": [
    {
     "data": {
      "image/png": "[encoded data removed]",
      "text/plain": [
       "<Figure size 720x1800 with 10 Axes>"
      ]
     },
     "metadata": {
      "needs_background": "light"
     },
     "output_type": "display_data"
    }
   ],
   "source": [
    "prod_time_city = ps_clean.groupby(['Hour', 'City']).sum().reset_index()\n",
    "\n",
    "g = sns.relplot(x='Hour', y='Quantity Ordered', data=prod_time_city, \n",
    "                kind='line', col='City', col_wrap=2, \n",
    "                facet_kws={'sharex':False, 'sharey':False})\n",
    "g.set(xticks=prod_time_city['Hour'])\n",
    "g.set_xticklabels(prod_time_city['Hour'], rotation=0, size=9)\n",
    "plt.subplots_adjust(hspace=.6)\n",
    "plt.show()"
   ]
  },
  {
   "cell_type": "markdown",
   "id": "ad8cc6d7",
   "metadata": {},
   "source": [
    "The trends in each city is also the same where the peak time for customers to order products were around 12 PM and 7 PM.\n",
    "\n",
    "Next, I'm going to see which product are usually bought together."
   ]
  },
  {
   "cell_type": "code",
   "execution_count": 41,
   "id": "b1a795c9",
   "metadata": {},
   "outputs": [
    {
     "name": "stdout",
     "output_type": "stream",
     "text": [
      "('iPhone', 'Lightning Charging Cable'): 2125\n",
      "('Google Phone', 'USB-C Charging Cable'): 2106\n",
      "('iPhone', 'Wired Headphones'): 987\n",
      "('Google Phone', 'Wired Headphones'): 943\n",
      "('iPhone', 'Apple Airpods Headphones'): 799\n",
      "('Vareebadd Phone', 'USB-C Charging Cable'): 773\n",
      "('Google Phone', 'Bose SoundSport Headphones'): 503\n",
      "('USB-C Charging Cable', 'Wired Headphones'): 443\n",
      "('Vareebadd Phone', 'Wired Headphones'): 327\n",
      "('Lightning Charging Cable', 'Wired Headphones'): 253\n"
     ]
    }
   ],
   "source": [
    "# for each order id, combine the products bought \n",
    "bundle = ps_clean\n",
    "bundle = bundle[bundle['Order ID'].duplicated(keep=False)].copy()\n",
    "bundle['Bundle'] = bundle.groupby('Order ID')['Product'].transform(lambda x: ','.join(x))\n",
    "bundle_final = bundle[['Order ID', 'Bundle']].drop_duplicates()\n",
    "\n",
    "# count the number of groups\n",
    "from itertools import combinations\n",
    "from collections import Counter\n",
    "\n",
    "count = Counter()\n",
    "\n",
    "for row in bundle['Bundle']:\n",
    "    row_list = row.split(',')\n",
    "    count.update(Counter(combinations(row_list, 2))) # 2 is set to find pairs of 2\n",
    "\n",
    "for key, value in count.most_common(10):\n",
    "    print(f'{key}: {value}')"
   ]
  },
  {
   "cell_type": "markdown",
   "id": "b2523731",
   "metadata": {},
   "source": [
    "The result above shows the top 10 most common pairs of 2 products bought together were an iPhone and a lightning charging cable followed by a Google phone and a USB-C charging cable."
   ]
  },
  {
   "cell_type": "code",
   "execution_count": 42,
   "id": "5ba5ac73",
   "metadata": {},
   "outputs": [
    {
     "name": "stdout",
     "output_type": "stream",
     "text": [
      "('Google Phone', 'USB-C Charging Cable', 'Wired Headphones'): 262\n",
      "('iPhone', 'Lightning Charging Cable', 'Wired Headphones'): 193\n",
      "('iPhone', 'Lightning Charging Cable', 'Apple Airpods Headphones'): 146\n",
      "('Google Phone', 'USB-C Charging Cable', 'Bose SoundSport Headphones'): 109\n",
      "('Vareebadd Phone', 'USB-C Charging Cable', 'Wired Headphones'): 101\n",
      "('iPhone', 'Apple Airpods Headphones', 'Wired Headphones'): 86\n",
      "('Google Phone', 'Bose SoundSport Headphones', 'Wired Headphones'): 75\n",
      "('Vareebadd Phone', 'USB-C Charging Cable', 'Bose SoundSport Headphones'): 50\n",
      "('USB-C Charging Cable', 'Bose SoundSport Headphones', 'Wired Headphones'): 20\n",
      "('Vareebadd Phone', 'Bose SoundSport Headphones', 'Wired Headphones'): 17\n"
     ]
    }
   ],
   "source": [
    "count = Counter()\n",
    "\n",
    "for row in bundle['Bundle']:\n",
    "    row_list = row.split(',')\n",
    "    count.update(Counter(combinations(row_list, 3)))\n",
    "\n",
    "for key, value in count.most_common(10):\n",
    "    print(f'{key}: {value}')"
   ]
  },
  {
   "cell_type": "markdown",
   "id": "f066b3f9",
   "metadata": {},
   "source": [
    "When it comes to pairs of 3, the most common products bought together were a Google phone, USB-C charging cable and wired headphones followed by an iPhone, lightning charging cable and wired headphones.\n",
    "\n",
    "Next, I want to compare the number of products bought against its price."
   ]
  },
  {
   "cell_type": "code",
   "execution_count": 43,
   "id": "cf0728f7",
   "metadata": {},
   "outputs": [
    {
     "data": {
      "text/html": [
       "<div>\n",
       "<style scoped>\n",
       "    .dataframe tbody tr th:only-of-type {\n",
       "        vertical-align: middle;\n",
       "    }\n",
       "\n",
       "    .dataframe tbody tr th {\n",
       "        vertical-align: top;\n",
       "    }\n",
       "\n",
       "    .dataframe thead th {\n",
       "        text-align: right;\n",
       "    }\n",
       "</style>\n",
       "<table border=\"1\" class=\"dataframe\">\n",
       "  <thead>\n",
       "    <tr style=\"text-align: right;\">\n",
       "      <th></th>\n",
       "      <th>Product</th>\n",
       "      <th>Quantity Ordered</th>\n",
       "      <th>Price Each</th>\n",
       "    </tr>\n",
       "  </thead>\n",
       "  <tbody>\n",
       "    <tr>\n",
       "      <th>0</th>\n",
       "      <td>20in Monitor</td>\n",
       "      <td>4126.0</td>\n",
       "      <td>109.99</td>\n",
       "    </tr>\n",
       "    <tr>\n",
       "      <th>1</th>\n",
       "      <td>27in 4K Gaming Monitor</td>\n",
       "      <td>6239.0</td>\n",
       "      <td>389.99</td>\n",
       "    </tr>\n",
       "    <tr>\n",
       "      <th>2</th>\n",
       "      <td>27in FHD Monitor</td>\n",
       "      <td>7541.0</td>\n",
       "      <td>149.99</td>\n",
       "    </tr>\n",
       "    <tr>\n",
       "      <th>3</th>\n",
       "      <td>34in Ultrawide Monitor</td>\n",
       "      <td>6192.0</td>\n",
       "      <td>379.99</td>\n",
       "    </tr>\n",
       "    <tr>\n",
       "      <th>4</th>\n",
       "      <td>AA Batteries (4-pack)</td>\n",
       "      <td>27615.0</td>\n",
       "      <td>3.84</td>\n",
       "    </tr>\n",
       "    <tr>\n",
       "      <th>5</th>\n",
       "      <td>AAA Batteries (4-pack)</td>\n",
       "      <td>30986.0</td>\n",
       "      <td>2.99</td>\n",
       "    </tr>\n",
       "    <tr>\n",
       "      <th>6</th>\n",
       "      <td>Apple Airpods Headphones</td>\n",
       "      <td>15637.0</td>\n",
       "      <td>150.00</td>\n",
       "    </tr>\n",
       "    <tr>\n",
       "      <th>7</th>\n",
       "      <td>Bose SoundSport Headphones</td>\n",
       "      <td>13430.0</td>\n",
       "      <td>99.99</td>\n",
       "    </tr>\n",
       "    <tr>\n",
       "      <th>8</th>\n",
       "      <td>Flatscreen TV</td>\n",
       "      <td>4813.0</td>\n",
       "      <td>300.00</td>\n",
       "    </tr>\n",
       "    <tr>\n",
       "      <th>9</th>\n",
       "      <td>Google Phone</td>\n",
       "      <td>5529.0</td>\n",
       "      <td>600.00</td>\n",
       "    </tr>\n",
       "    <tr>\n",
       "      <th>10</th>\n",
       "      <td>LG Dryer</td>\n",
       "      <td>646.0</td>\n",
       "      <td>600.00</td>\n",
       "    </tr>\n",
       "    <tr>\n",
       "      <th>11</th>\n",
       "      <td>LG Washing Machine</td>\n",
       "      <td>666.0</td>\n",
       "      <td>600.00</td>\n",
       "    </tr>\n",
       "    <tr>\n",
       "      <th>12</th>\n",
       "      <td>Lightning Charging Cable</td>\n",
       "      <td>23169.0</td>\n",
       "      <td>14.95</td>\n",
       "    </tr>\n",
       "    <tr>\n",
       "      <th>13</th>\n",
       "      <td>Macbook Pro Laptop</td>\n",
       "      <td>4725.0</td>\n",
       "      <td>1700.00</td>\n",
       "    </tr>\n",
       "    <tr>\n",
       "      <th>14</th>\n",
       "      <td>ThinkPad Laptop</td>\n",
       "      <td>4128.0</td>\n",
       "      <td>999.99</td>\n",
       "    </tr>\n",
       "    <tr>\n",
       "      <th>15</th>\n",
       "      <td>USB-C Charging Cable</td>\n",
       "      <td>23931.0</td>\n",
       "      <td>11.95</td>\n",
       "    </tr>\n",
       "    <tr>\n",
       "      <th>16</th>\n",
       "      <td>Vareebadd Phone</td>\n",
       "      <td>2068.0</td>\n",
       "      <td>400.00</td>\n",
       "    </tr>\n",
       "    <tr>\n",
       "      <th>17</th>\n",
       "      <td>Wired Headphones</td>\n",
       "      <td>20524.0</td>\n",
       "      <td>11.99</td>\n",
       "    </tr>\n",
       "    <tr>\n",
       "      <th>18</th>\n",
       "      <td>iPhone</td>\n",
       "      <td>6847.0</td>\n",
       "      <td>700.00</td>\n",
       "    </tr>\n",
       "  </tbody>\n",
       "</table>\n",
       "</div>"
      ],
      "text/plain": [
       "                       Product  Quantity Ordered  Price Each\n",
       "0                 20in Monitor            4126.0      109.99\n",
       "1       27in 4K Gaming Monitor            6239.0      389.99\n",
       "2             27in FHD Monitor            7541.0      149.99\n",
       "3       34in Ultrawide Monitor            6192.0      379.99\n",
       "4        AA Batteries (4-pack)           27615.0        3.84\n",
       "5       AAA Batteries (4-pack)           30986.0        2.99\n",
       "6     Apple Airpods Headphones           15637.0      150.00\n",
       "7   Bose SoundSport Headphones           13430.0       99.99\n",
       "8                Flatscreen TV            4813.0      300.00\n",
       "9                 Google Phone            5529.0      600.00\n",
       "10                    LG Dryer             646.0      600.00\n",
       "11          LG Washing Machine             666.0      600.00\n",
       "12    Lightning Charging Cable           23169.0       14.95\n",
       "13          Macbook Pro Laptop            4725.0     1700.00\n",
       "14             ThinkPad Laptop            4128.0      999.99\n",
       "15        USB-C Charging Cable           23931.0       11.95\n",
       "16             Vareebadd Phone            2068.0      400.00\n",
       "17            Wired Headphones           20524.0       11.99\n",
       "18                      iPhone            6847.0      700.00"
      ]
     },
     "execution_count": 43,
     "metadata": {},
     "output_type": "execute_result"
    }
   ],
   "source": [
    "# products bought against price\n",
    "prod_price_each = ps_clean[['Product', 'Price Each']].drop_duplicates()\n",
    "prod_price_each['Price Each'] = prod_price_each['Price Each'].apply(lambda x: round(x, 2))\n",
    "\n",
    "# join top_products & prod_price_each\n",
    "top_products = most_bought_year[['Product', 'Quantity Ordered']]\n",
    "top_products = top_products.merge(prod_price_each, how='inner')\n",
    "top_products"
   ]
  },
  {
   "cell_type": "code",
   "execution_count": 44,
   "id": "9ee0d9ed",
   "metadata": {},
   "outputs": [
    {
     "data": {
      "image/png": "[encoded data removed]",
      "text/plain": [
       "<Figure size 720x504 with 2 Axes>"
      ]
     },
     "metadata": {
      "needs_background": "light"
     },
     "output_type": "display_data"
    }
   ],
   "source": [
    "fig, ax = plt.subplots(figsize = (10, 7))\n",
    "plt.title('Number of Products Bought and Price')\n",
    " \n",
    "ax2 = ax.twinx()\n",
    "ax.bar(top_products['Product'], top_products['Quantity Ordered'], color = 'grey')\n",
    "ax2.plot(top_products['Product'], top_products['Price Each'], color = 'lime')\n",
    "\n",
    "ax.set_xlabel('Product', color = 'black')\n",
    "ax.set_xticklabels(top_products['Product'], rotation=90)\n",
    "ax.set_ylabel('No. of Products Sold', color = 'grey')\n",
    "ax2.set_ylabel('Price of Each Product ($)', color = 'lime')\n",
    "plt.tight_layout()\n",
    "plt.show()"
   ]
  },
  {
   "cell_type": "markdown",
   "id": "17dad762",
   "metadata": {},
   "source": [
    "Based on the results, cheaper products seem to be bought the most except for some. As seen above, the price of batteries were the cheapest and were bought the most by customers. Products that were expensive such as LG dryer and LG washing machine were bought the least. However, laptops such as the Macbook Pro and ThinkPad were two of the most expensive products yet they were bought more than the LG dryer and LG washing machine. This might be because the number of people who needs a laptop is more compared to people who needs a dryer or a washing machine."
   ]
  }
 ],
 "metadata": {
  "kernelspec": {
   "display_name": "Python 3 (ipykernel)",
   "language": "python",
   "name": "python3"
  },
  "language_info": {
   "codemirror_mode": {
    "name": "ipython",
    "version": 3
   },
   "file_extension": ".py",
   "mimetype": "text/x-python",
   "name": "python",
   "nbconvert_exporter": "python",
   "pygments_lexer": "ipython3",
   "version": "3.9.7"
  }
 },
 "nbformat": 4,
 "nbformat_minor": 5
}
